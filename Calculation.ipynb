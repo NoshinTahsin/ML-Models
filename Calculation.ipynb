{
 "cells": [
  {
   "cell_type": "code",
   "execution_count": 44,
   "metadata": {},
   "outputs": [
    {
     "name": "stdout",
     "output_type": "stream",
     "text": [
      "(21120, 15)\n"
     ]
    }
   ],
   "source": [
    "import pandas as pd\n",
    "import numpy as np\n",
    "dataset = pd.read_csv(\"C:/Users/noshi/Desktop/poralekha/Sem8/MachineLearning/WeatherDatasetDropped.csv\")\n",
    "print(dataset.shape)"
   ]
  },
  {
   "cell_type": "code",
   "execution_count": 45,
   "metadata": {},
   "outputs": [
    {
     "name": "stdout",
     "output_type": "stream",
     "text": [
      "['Station Names', 'Max Temp', 'Min Temp', 'Relative Humidity', 'Wind Speed', 'Cloud Coverage', 'Bright Sunshine', 'Station Number', 'X_COR', 'Y_COR', 'LATITUDE', 'LONGITUDE', 'ALT', 'Period', 'Rainfall']\n",
      "['Max Temp', 'Min Temp', 'Relative Humidity', 'Wind Speed', 'Cloud Coverage', 'Bright Sunshine', 'X_COR', 'Y_COR', 'LATITUDE', 'LONGITUDE', 'ALT', 'Rainfall']\n"
     ]
    }
   ],
   "source": [
    "col_list = dataset.columns.tolist()\n",
    "print(col_list)\n",
    "categorical_cols = ['Station Names','Station Number','Period']\n",
    "numeric_col_list=[]\n",
    "for colname in col_list:\n",
    "    if colname not in categorical_cols:\n",
    "        numeric_col_list.append(colname)\n",
    "print(numeric_col_list)"
   ]
  },
  {
   "cell_type": "code",
   "execution_count": 46,
   "metadata": {},
   "outputs": [],
   "source": [
    "def cube(e):\n",
    "    it = np.nditer([e, None])\n",
    "    for a, b in it:\n",
    "        b[...] = a*a*a\n",
    "    return it.operands[1]\n"
   ]
  },
  {
   "cell_type": "code",
   "execution_count": 47,
   "metadata": {},
   "outputs": [],
   "source": [
    "def inverse(arr):\n",
    "    inversed_arr=[]\n",
    "    for value in arr:\n",
    "        inversed_arr.append(1/value)\n",
    "    return inversed_arr"
   ]
  },
  {
   "cell_type": "code",
   "execution_count": 48,
   "metadata": {},
   "outputs": [
    {
     "name": "stderr",
     "output_type": "stream",
     "text": [
      "G:\\anaconda\\lib\\site-packages\\ipykernel_launcher.py:6: RuntimeWarning: divide by zero encountered in log\n",
      "  \n",
      "G:\\anaconda\\lib\\site-packages\\ipykernel_launcher.py:9: RuntimeWarning: divide by zero encountered in log10\n",
      "  if __name__ == '__main__':\n",
      "G:\\anaconda\\lib\\site-packages\\ipykernel_launcher.py:4: RuntimeWarning: divide by zero encountered in double_scalars\n",
      "  after removing the cwd from sys.path.\n",
      "G:\\anaconda\\lib\\site-packages\\ipykernel_launcher.py:4: RuntimeWarning: divide by zero encountered in longlong_scalars\n",
      "  after removing the cwd from sys.path.\n"
     ]
    }
   ],
   "source": [
    "for colname in numeric_col_list:\n",
    "    #print(colname)\n",
    "    arr=np.array(dataset[colname])\n",
    "    # Finding the Natural Log\n",
    "    new_colname = \"ln(\"+colname+\")\"\n",
    "    dataset[new_colname]=np.log(arr)\n",
    "    #standard log (10-base)\n",
    "    new_colname = \"log(\"+colname+\")\"\n",
    "    dataset[new_colname]=np.log10(arr)\n",
    "    #square\n",
    "    new_colname = \"sqr(\"+colname+\")\"\n",
    "    dataset[new_colname]=np.square(arr)\n",
    "    #cube\n",
    "    new_colname = \"cube(\"+colname+\")\"\n",
    "    dataset[new_colname]=cube(arr)\n",
    "    #1/x\n",
    "    new_colname = \"inverse(\"+colname+\")\"\n",
    "    dataset[new_colname]=inverse(arr)\n",
    "    \n",
    "    \n",
    "    "
   ]
  },
  {
   "cell_type": "code",
   "execution_count": 49,
   "metadata": {},
   "outputs": [],
   "source": [
    "dataset.to_csv(\"Calculated.csv\")"
   ]
  },
  {
   "cell_type": "code",
   "execution_count": null,
   "metadata": {},
   "outputs": [],
   "source": []
  }
 ],
 "metadata": {
  "kernelspec": {
   "display_name": "Python 3",
   "language": "python",
   "name": "python3"
  },
  "language_info": {
   "codemirror_mode": {
    "name": "ipython",
    "version": 3
   },
   "file_extension": ".py",
   "mimetype": "text/x-python",
   "name": "python",
   "nbconvert_exporter": "python",
   "pygments_lexer": "ipython3",
   "version": "3.7.6"
  }
 },
 "nbformat": 4,
 "nbformat_minor": 4
}
