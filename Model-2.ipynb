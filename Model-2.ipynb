{
 "cells": [
  {
   "cell_type": "code",
   "execution_count": 10,
   "metadata": {},
   "outputs": [
    {
     "name": "stdout",
     "output_type": "stream",
     "text": [
      "(21120, 109)\n"
     ]
    }
   ],
   "source": [
    "import pandas as pd\n",
    "import numpy as np\n",
    "from sklearn import linear_model\n",
    "import statsmodels.api as sm\n",
    "dataset = pd.read_csv(\"C:/Users/noshi/Desktop/poralekha/Sem8/MachineLearning/FinalCalculatedData.csv\")\n",
    "print(dataset.shape)"
   ]
  },
  {
   "cell_type": "code",
   "execution_count": 11,
   "metadata": {},
   "outputs": [
    {
     "name": "stdout",
     "output_type": "stream",
     "text": [
      "['Unnamed: 0', 'Station Names', 'Max Temp', 'Min Temp', 'Relative Humidity', 'Wind Speed', 'Cloud Coverage', 'Bright Sunshine', 'X_COR', 'Y_COR', 'LATITUDE', 'LONGITUDE', 'ALT', 'Rainfall', 'ln(Max Temp)', 'log(Max Temp)', 'sqr(Max Temp)', 'cube(Max Temp)', 'inverse(Max Temp)', 'ln(Min Temp)', 'log(Min Temp)', 'sqr(Min Temp)', 'cube(Min Temp)', 'inverse(Min Temp)', 'ln(Relative Humidity)', 'log(Relative Humidity)', 'sqr(Relative Humidity)', 'cube(Relative Humidity)', 'inverse(Relative Humidity)', 'ln(Wind Speed)', 'log(Wind Speed)', 'sqr(Wind Speed)', 'cube(Wind Speed)', 'inverse(Wind Speed)', 'ln(Cloud Coverage)', 'log(Cloud Coverage)', 'sqr(Cloud Coverage)', 'cube(Cloud Coverage)', 'inverse(Cloud Coverage)', 'ln(Bright Sunshine)', 'log(Bright Sunshine)', 'sqr(Bright Sunshine)', 'cube(Bright Sunshine)', 'inverse(Bright Sunshine)', 'ln(X_COR)', 'log(X_COR)', 'sqr(X_COR)', 'cube(X_COR)', 'inverse(X_COR)', 'ln(Y_COR)', 'log(Y_COR)', 'sqr(Y_COR)', 'cube(Y_COR)', 'inverse(Y_COR)', 'ln(LATITUDE)', 'log(LATITUDE)', 'sqr(LATITUDE)', 'cube(LATITUDE)', 'inverse(LATITUDE)', 'ln(LONGITUDE)', 'log(LONGITUDE)', 'sqr(LONGITUDE)', 'cube(LONGITUDE)', 'inverse(LONGITUDE)', 'ln(ALT)', 'log(ALT)', 'sqr(ALT)', 'cube(ALT)', 'inverse(ALT)', 'ln(Rainfall)', 'log(Rainfall)', 'sqr(Rainfall)', 'cube(Rainfall)', 'inverse(Rainfall)', 'Station_Barisal', 'Station_Bhola', 'Station_Bogra', 'Station_Chandpur', 'Station_Chittagong (City-Ambagan)', 'Station_Chittagong (IAP-Patenga)', 'Station_Chuadanga', 'Station_Comilla', 'Station_Coxs Bazar', 'Station_Dhaka', 'Station_Dinajpur', 'Station_Faridpur', 'Station_Feni', 'Station_Hatiya', 'Station_Ishurdi', 'Station_Jessore', 'Station_Khepupara', 'Station_Khulna', 'Station_Kutubdia', 'Station_Madaripur', 'Station_Maijdee Court', 'Station_Mongla', 'Station_Mymensingh', 'Station_Patuakhali', 'Station_Rajshahi', 'Station_Rangamati', 'Station_Rangpur', 'Station_Sandwip', 'Station_Satkhira', 'Station_Sitakunda', 'Station_Srimangal', 'Station_Syedpur', 'Station_Sylhet', 'Station_Tangail', 'Station_Teknaf']\n"
     ]
    }
   ],
   "source": [
    "columns = dataset.columns.to_list()\n",
    "print(columns)"
   ]
  },
  {
   "cell_type": "code",
   "execution_count": 12,
   "metadata": {},
   "outputs": [],
   "source": [
    "xcollist=['Max Temp', 'Min Temp', 'Relative Humidity', 'Wind Speed', 'inverse(Cloud Coverage)', 'Bright Sunshine','X_COR', 'Y_COR', 'LATITUDE', 'LONGITUDE', 'ALT','Station_Barisal', 'Station_Bhola', 'Station_Bogra', 'Station_Chandpur', 'Station_Chittagong (City-Ambagan)', 'Station_Chittagong (IAP-Patenga)', 'Station_Chuadanga', 'Station_Comilla', 'Station_Coxs Bazar', 'Station_Dhaka', 'Station_Dinajpur', 'Station_Faridpur', 'Station_Feni', 'Station_Hatiya', 'Station_Ishurdi', 'Station_Jessore', 'Station_Khepupara', 'Station_Khulna', 'Station_Kutubdia', 'Station_Madaripur', 'Station_Maijdee Court', 'Station_Mongla', 'Station_Mymensingh', 'Station_Patuakhali', 'Station_Rajshahi', 'Station_Rangamati', 'Station_Rangpur', 'Station_Sandwip', 'Station_Satkhira', 'Station_Sitakunda', 'Station_Srimangal', 'Station_Syedpur', 'Station_Sylhet', 'Station_Tangail', 'Station_Teknaf']"
   ]
  },
  {
   "cell_type": "code",
   "execution_count": 14,
   "metadata": {},
   "outputs": [
    {
     "name": "stdout",
     "output_type": "stream",
     "text": [
      "Intercept:  18249988.03244198\n",
      "\n",
      "Coefficient:  [ 4.49938373e-02  1.45798845e-01  4.51882776e-02  7.25473857e-02\n",
      " -5.61079697e-01 -2.24788704e-01  2.20803030e+00 -3.12116142e-01\n",
      "  3.29154909e+04 -2.21567534e+05 -3.19711818e+02 -1.11658686e+03\n",
      " -2.35814297e+03  1.00352608e+04 -7.16042810e+02  9.63026348e-01\n",
      " -1.01371655e+04 -8.15066265e-04 -7.53377443e+02 -1.55285533e+04\n",
      "  1.49078502e+03  1.52457469e+04  3.57925820e+03 -3.87382573e+03\n",
      " -6.22039309e+03  8.62347491e+03  5.90459054e+03 -3.04276736e+03\n",
      "  3.38746183e+03 -1.24210503e+04 -1.89840758e+02 -4.25661534e+03\n",
      "  3.64733411e+04  9.05346755e+03 -2.37797106e+03  1.18284557e+04\n",
      "  8.22940852e+03  1.40915384e+04 -6.84153431e+03  6.58263938e+03\n",
      " -8.86149972e+03  4.58772760e+03  0.00000000e+00  1.22139564e+04\n",
      " -7.34158387e+04 -1.98039076e+04]\n",
      "\n",
      "R-Squared:  0.6880275643713881\n",
      "\n",
      "Regression Equation:\n",
      "\n",
      "18249988.03244198+(0.044993837257342566 * Max Temp)+(0.14579884545255972 * Min Temp)+(0.045188277631431586 * Relative Humidity)+(0.07254738568403855 * Wind Speed)-(0.5610796971500482 * inverse(Cloud Coverage))-(0.2247887036286029 * Bright Sunshine)+(2.2080303034522912 * X_COR)-(0.3121161416141552 * Y_COR)+(32915.49094336236 * LATITUDE)-(221567.5339427593 * LONGITUDE)-(319.7118181978602 * ALT)-(1116.5868640339042 * Station_Barisal)-(2358.1429685420853 * Station_Bhola)+(10035.260807896248 * Station_Bogra)-(716.0428096634141 * Station_Chandpur)+(0.9630263482249576 * Station_Chittagong (City-Ambagan))-(10137.165453633837 * Station_Chittagong (IAP-Patenga))-(0.0008150662652042229 * Station_Chuadanga)-(753.3774426180423 * Station_Comilla)-(15528.553272242147 * Station_Coxs Bazar)+(1490.785020896032 * Station_Dhaka)+(15245.746941353713 * Station_Dinajpur)+(3579.2581969384846 * Station_Faridpur)-(3873.8257283963153 * Station_Feni)-(6220.393090174939 * Station_Hatiya)+(8623.474914901752 * Station_Ishurdi)+(5904.590536324003 * Station_Jessore)-(3042.7673609626827 * Station_Khepupara)+(3387.46182924294 * Station_Khulna)-(12421.050292044005 * Station_Kutubdia)-(189.84075794093016 * Station_Madaripur)-(4256.61534216318 * Station_Maijdee Court)+(36473.34106407631 * Station_Mongla)+(9053.467550103514 * Station_Mymensingh)-(2377.9710566144795 * Station_Patuakhali)+(11828.455680999044 * Station_Rajshahi)+(8229.408518273505 * Station_Rangamati)+(14091.538447292489 * Station_Rangpur)-(6841.534305638888 * Station_Sandwip)+(6582.639383590262 * Station_Satkhira)-(8861.499718919546 * Station_Sitakunda)+(4587.72760455467 * Station_Srimangal)+(12213.956357699424 * Station_Sylhet)-(73415.83869078565 * Station_Tangail)-(19803.907584836947 * Station_Teknaf)\n"
     ]
    }
   ],
   "source": [
    "#dataset = dataset[dataset['inverse(Wind Speed)'] != \"inf\"]\n",
    "# Replacing infinite with nan \n",
    "dataset.replace([np.inf, -np.inf], np.nan, inplace=True)   \n",
    "# Dropping all the rows with nan values \n",
    "dataset.dropna(inplace=True) \n",
    "X = dataset[xcollist]\n",
    "#y = dataset['Rainfall']\n",
    "y = dataset['ln(Rainfall)']\n",
    "\n",
    "regr = linear_model.LinearRegression()\n",
    "regr.fit(X, y)\n",
    "\n",
    "print(\"Intercept: \",regr.intercept_)\n",
    "print(\"\\nCoefficient: \",regr.coef_) \n",
    "print(\"\\nR-Squared: \",regr.score(X, y))\n",
    "\n",
    "equation =str(regr.intercept_)\n",
    "for i in range(len(xcollist)):\n",
    "    if regr.coef_[i]>0:\n",
    "        equation+=\"+\"\n",
    "        equation+=\"(\"+str(regr.coef_[i])+\" * \"+str(xcollist[i])+\")\"\n",
    "    if regr.coef_[i]<0:\n",
    "        equation+=\"-\"\n",
    "        equation+=\"(\"+str(regr.coef_[i]*-1)+\" * \"+str(xcollist[i])+\")\"\n",
    "\n",
    "print(\"\\nRegression Equation:\\n\")\n",
    "print(equation)"
   ]
  },
  {
   "cell_type": "code",
   "execution_count": 15,
   "metadata": {},
   "outputs": [
    {
     "name": "stdout",
     "output_type": "stream",
     "text": [
      "                            OLS Regression Results                            \n",
      "==============================================================================\n",
      "Dep. Variable:           ln(Rainfall)   R-squared:                       0.688\n",
      "Model:                            OLS   Adj. R-squared:                  0.687\n",
      "Method:                 Least Squares   F-statistic:                     1014.\n",
      "Date:                Sat, 09 Jan 2021   Prob (F-statistic):               0.00\n",
      "Time:                        19:24:01   Log-Likelihood:                -23129.\n",
      "No. Observations:               17057   AIC:                         4.633e+04\n",
      "Df Residuals:                   17019   BIC:                         4.663e+04\n",
      "Df Model:                          37                                         \n",
      "Covariance Type:            nonrobust                                         \n",
      "=====================================================================================================\n",
      "                                        coef    std err          t      P>|t|      [0.025      0.975]\n",
      "-----------------------------------------------------------------------------------------------------\n",
      "const                                -0.0009      0.000     -3.613      0.000      -0.001      -0.000\n",
      "Max Temp                              0.0450      0.005      9.306      0.000       0.036       0.054\n",
      "Min Temp                              0.1458      0.004     37.676      0.000       0.138       0.153\n",
      "Relative Humidity                     0.0452      0.002     25.609      0.000       0.042       0.049\n",
      "Wind Speed                            0.0725      0.009      8.342      0.000       0.056       0.090\n",
      "inverse(Cloud Coverage)              -0.5611      0.022    -25.818      0.000      -0.604      -0.518\n",
      "Bright Sunshine                      -0.2248      0.006    -34.652      0.000      -0.238      -0.212\n",
      "X_COR                              2.455e-06   1.03e-07     23.788      0.000    2.25e-06    2.66e-06\n",
      "Y_COR                              9.003e-07   1.24e-07      7.265      0.000    6.57e-07    1.14e-06\n",
      "LATITUDE                              0.0181      0.010      1.829      0.067      -0.001       0.038\n",
      "LONGITUDE                            -0.0509      0.004    -14.093      0.000      -0.058      -0.044\n",
      "ALT                                   0.0008      0.001      1.122      0.262      -0.001       0.002\n",
      "Station_Barisal                      -0.0498      0.036     -1.365      0.172      -0.121       0.022\n",
      "Station_Bhola                        -0.3454      0.044     -7.918      0.000      -0.431      -0.260\n",
      "Station_Bogra                        -0.0047      0.035     -0.134      0.893      -0.073       0.064\n",
      "Station_Chandpur                     -0.3470      0.041     -8.386      0.000      -0.428      -0.266\n",
      "Station_Chittagong (City-Ambagan)  8.521e-17   2.69e-17      3.163      0.002    3.24e-17    1.38e-16\n",
      "Station_Chittagong (IAP-Patenga)     -0.0542      0.038     -1.424      0.155      -0.129       0.020\n",
      "Station_Chuadanga                  1.575e-16   2.29e-17      6.872      0.000    1.13e-16    2.02e-16\n",
      "Station_Comilla                      -0.0867      0.035     -2.446      0.014      -0.156      -0.017\n",
      "Station_Coxs Bazar                    0.2047      0.036      5.614      0.000       0.133       0.276\n",
      "Station_Dhaka                         0.1597      0.037      4.278      0.000       0.087       0.233\n",
      "Station_Dinajpur                      0.1729      0.034      5.061      0.000       0.106       0.240\n",
      "Station_Faridpur                      0.1700      0.036      4.719      0.000       0.099       0.241\n",
      "Station_Feni                          0.1254      0.044      2.821      0.005       0.038       0.213\n",
      "Station_Hatiya                        0.0949      0.042      2.243      0.025       0.012       0.178\n",
      "Station_Ishurdi                       0.0913      0.039      2.330      0.020       0.014       0.168\n",
      "Station_Jessore                      -0.0151      0.036     -0.420      0.674      -0.085       0.055\n",
      "Station_Khepupara                    -0.0201      0.044     -0.453      0.651      -0.107       0.067\n",
      "Station_Khulna                       -0.0388      0.036     -1.092      0.275      -0.108       0.031\n",
      "Station_Kutubdia                     -0.0365      0.047     -0.780      0.435      -0.128       0.055\n",
      "Station_Madaripur                    -0.0789      0.049     -1.626      0.104      -0.174       0.016\n",
      "Station_Maijdee Court                 0.1562      0.037      4.223      0.000       0.084       0.229\n",
      "Station_Mongla                       -0.1339      0.052     -2.590      0.010      -0.235      -0.033\n",
      "Station_Mymensingh                   -0.1901      0.035     -5.421      0.000      -0.259      -0.121\n",
      "Station_Patuakhali                   -0.2404      0.044     -5.407      0.000      -0.328      -0.153\n",
      "Station_Rajshahi                      0.1258      0.038      3.283      0.001       0.051       0.201\n",
      "Station_Rangamati                    -0.2097      0.018    -11.712      0.000      -0.245      -0.175\n",
      "Station_Rangpur                      -0.0360      0.035     -1.020      0.308      -0.105       0.033\n",
      "Station_Sandwip                       0.0898      0.042      2.129      0.033       0.007       0.172\n",
      "Station_Satkhira                      0.2326      0.035      6.640      0.000       0.164       0.301\n",
      "Station_Sitakunda                    -0.1801      0.047     -3.870      0.000      -0.271      -0.089\n",
      "Station_Srimangal                     0.0807      0.036      2.260      0.024       0.011       0.151\n",
      "Station_Syedpur                            0          0        nan        nan           0           0\n",
      "Station_Sylhet                        0.1927      0.033      5.788      0.000       0.127       0.258\n",
      "Station_Tangail                      -0.1512      0.053     -2.839      0.005      -0.256      -0.047\n",
      "Station_Teknaf                        0.3210      0.045      7.117      0.000       0.233       0.409\n",
      "==============================================================================\n",
      "Omnibus:                     2705.236   Durbin-Watson:                   1.748\n",
      "Prob(Omnibus):                  0.000   Jarque-Bera (JB):             7931.070\n",
      "Skew:                          -0.840   Prob(JB):                         0.00\n",
      "Kurtosis:                       5.887   Cond. No.                     6.27e+19\n",
      "==============================================================================\n",
      "\n",
      "Warnings:\n",
      "[1] Standard Errors assume that the covariance matrix of the errors is correctly specified.\n",
      "[2] The smallest eigenvalue is 2.81e-24. This might indicate that there are\n",
      "strong multicollinearity problems or that the design matrix is singular.\n"
     ]
    },
    {
     "name": "stderr",
     "output_type": "stream",
     "text": [
      "G:\\anaconda\\lib\\site-packages\\statsmodels\\base\\model.py:1362: RuntimeWarning: invalid value encountered in true_divide\n",
      "  return self.params / self.bse\n",
      "G:\\anaconda\\lib\\site-packages\\scipy\\stats\\_distn_infrastructure.py:903: RuntimeWarning: invalid value encountered in greater\n",
      "  return (a < x) & (x < b)\n",
      "G:\\anaconda\\lib\\site-packages\\scipy\\stats\\_distn_infrastructure.py:903: RuntimeWarning: invalid value encountered in less\n",
      "  return (a < x) & (x < b)\n",
      "G:\\anaconda\\lib\\site-packages\\scipy\\stats\\_distn_infrastructure.py:1912: RuntimeWarning: invalid value encountered in less_equal\n",
      "  cond2 = cond0 & (x <= _a)\n"
     ]
    }
   ],
   "source": [
    "# with statsmodels\n",
    "X = sm.add_constant(X) # adding a constant\n",
    " \n",
    "model = sm.OLS(y, X).fit()\n",
    "predictions = model.predict(X) \n",
    " \n",
    "print_model = model.summary()\n",
    "print(print_model)"
   ]
  },
  {
   "cell_type": "code",
   "execution_count": 10,
   "metadata": {},
   "outputs": [],
   "source": []
  },
  {
   "cell_type": "code",
   "execution_count": null,
   "metadata": {},
   "outputs": [],
   "source": []
  }
 ],
 "metadata": {
  "kernelspec": {
   "display_name": "Python 3",
   "language": "python",
   "name": "python3"
  },
  "language_info": {
   "codemirror_mode": {
    "name": "ipython",
    "version": 3
   },
   "file_extension": ".py",
   "mimetype": "text/x-python",
   "name": "python",
   "nbconvert_exporter": "python",
   "pygments_lexer": "ipython3",
   "version": "3.7.6"
  }
 },
 "nbformat": 4,
 "nbformat_minor": 4
}
