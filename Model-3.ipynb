{
 "cells": [
  {
   "cell_type": "code",
   "execution_count": 1,
   "metadata": {},
   "outputs": [
    {
     "name": "stdout",
     "output_type": "stream",
     "text": [
      "(21120, 109)\n"
     ]
    }
   ],
   "source": [
    "import pandas as pd\n",
    "import numpy as np\n",
    "from sklearn import linear_model\n",
    "import statsmodels.api as sm\n",
    "dataset = pd.read_csv(\"C:/Users/noshi/Desktop/poralekha/Sem8/MachineLearning/FinalCalculatedData.csv\")\n",
    "print(dataset.shape)"
   ]
  },
  {
   "cell_type": "code",
   "execution_count": 2,
   "metadata": {},
   "outputs": [
    {
     "name": "stdout",
     "output_type": "stream",
     "text": [
      "['Unnamed: 0', 'Station Names', 'Max Temp', 'Min Temp', 'Relative Humidity', 'Wind Speed', 'Cloud Coverage', 'Bright Sunshine', 'X_COR', 'Y_COR', 'LATITUDE', 'LONGITUDE', 'ALT', 'Rainfall', 'ln(Max Temp)', 'log(Max Temp)', 'sqr(Max Temp)', 'cube(Max Temp)', 'inverse(Max Temp)', 'ln(Min Temp)', 'log(Min Temp)', 'sqr(Min Temp)', 'cube(Min Temp)', 'inverse(Min Temp)', 'ln(Relative Humidity)', 'log(Relative Humidity)', 'sqr(Relative Humidity)', 'cube(Relative Humidity)', 'inverse(Relative Humidity)', 'ln(Wind Speed)', 'log(Wind Speed)', 'sqr(Wind Speed)', 'cube(Wind Speed)', 'inverse(Wind Speed)', 'ln(Cloud Coverage)', 'log(Cloud Coverage)', 'sqr(Cloud Coverage)', 'cube(Cloud Coverage)', 'inverse(Cloud Coverage)', 'ln(Bright Sunshine)', 'log(Bright Sunshine)', 'sqr(Bright Sunshine)', 'cube(Bright Sunshine)', 'inverse(Bright Sunshine)', 'ln(X_COR)', 'log(X_COR)', 'sqr(X_COR)', 'cube(X_COR)', 'inverse(X_COR)', 'ln(Y_COR)', 'log(Y_COR)', 'sqr(Y_COR)', 'cube(Y_COR)', 'inverse(Y_COR)', 'ln(LATITUDE)', 'log(LATITUDE)', 'sqr(LATITUDE)', 'cube(LATITUDE)', 'inverse(LATITUDE)', 'ln(LONGITUDE)', 'log(LONGITUDE)', 'sqr(LONGITUDE)', 'cube(LONGITUDE)', 'inverse(LONGITUDE)', 'ln(ALT)', 'log(ALT)', 'sqr(ALT)', 'cube(ALT)', 'inverse(ALT)', 'ln(Rainfall)', 'log(Rainfall)', 'sqr(Rainfall)', 'cube(Rainfall)', 'inverse(Rainfall)', 'Station_Barisal', 'Station_Bhola', 'Station_Bogra', 'Station_Chandpur', 'Station_Chittagong (City-Ambagan)', 'Station_Chittagong (IAP-Patenga)', 'Station_Chuadanga', 'Station_Comilla', 'Station_Coxs Bazar', 'Station_Dhaka', 'Station_Dinajpur', 'Station_Faridpur', 'Station_Feni', 'Station_Hatiya', 'Station_Ishurdi', 'Station_Jessore', 'Station_Khepupara', 'Station_Khulna', 'Station_Kutubdia', 'Station_Madaripur', 'Station_Maijdee Court', 'Station_Mongla', 'Station_Mymensingh', 'Station_Patuakhali', 'Station_Rajshahi', 'Station_Rangamati', 'Station_Rangpur', 'Station_Sandwip', 'Station_Satkhira', 'Station_Sitakunda', 'Station_Srimangal', 'Station_Syedpur', 'Station_Sylhet', 'Station_Tangail', 'Station_Teknaf']\n"
     ]
    }
   ],
   "source": [
    "columns = dataset.columns.to_list()\n",
    "print(columns)"
   ]
  },
  {
   "cell_type": "code",
   "execution_count": 8,
   "metadata": {},
   "outputs": [],
   "source": [
    "xcollist=['Max Temp', 'Min Temp', 'sqr(Min Temp)', 'log(Relative Humidity)', 'Wind Speed', 'Cloud Coverage', 'Bright Sunshine','X_COR', 'Y_COR', 'LATITUDE', 'LONGITUDE', 'ALT','Station_Barisal', 'Station_Bhola', 'Station_Bogra', 'Station_Chandpur', 'Station_Chittagong (City-Ambagan)', 'Station_Chittagong (IAP-Patenga)', 'Station_Chuadanga', 'Station_Comilla', 'Station_Coxs Bazar', 'Station_Dhaka', 'Station_Dinajpur', 'Station_Faridpur', 'Station_Feni', 'Station_Hatiya', 'Station_Ishurdi', 'Station_Jessore', 'Station_Khepupara', 'Station_Khulna', 'Station_Kutubdia', 'Station_Madaripur', 'Station_Maijdee Court', 'Station_Mongla', 'Station_Mymensingh', 'Station_Patuakhali', 'Station_Rajshahi', 'Station_Rangamati', 'Station_Rangpur', 'Station_Sandwip', 'Station_Satkhira', 'Station_Sitakunda', 'Station_Srimangal', 'Station_Syedpur', 'Station_Sylhet', 'Station_Tangail', 'Station_Teknaf']"
   ]
  },
  {
   "cell_type": "code",
   "execution_count": 9,
   "metadata": {},
   "outputs": [
    {
     "name": "stdout",
     "output_type": "stream",
     "text": [
      "Intercept:  -13.937196263211533\n",
      "\n",
      "Coefficient:  [ 4.07528840e-02  3.33319081e-01 -6.38158296e-03  5.46223219e+00\n",
      "  5.32554360e-03  4.27973881e-01 -6.70018194e-02  1.38144349e-06\n",
      "  4.52866532e-07  1.96010032e-02 -1.27757825e-03 -1.08046296e-03\n",
      " -1.91001542e-01 -1.53316901e-01 -4.76278157e-02 -5.28715476e-02\n",
      "  2.77555756e-17 -9.49217572e-02  2.77555756e-17 -7.20863653e-02\n",
      "  6.84545144e-02 -8.25936185e-03  2.26692854e-01  1.07087222e-01\n",
      " -5.99179166e-03  1.42762532e-01 -1.49861849e-02 -5.59435456e-02\n",
      "  1.82732632e-02 -3.38150077e-02 -5.55219785e-02 -3.99252655e-02\n",
      "  1.90588140e-01 -8.53033353e-02 -1.76381777e-01 -1.66731540e-01\n",
      "  6.27938686e-02 -1.30084485e-01  3.37013434e-02  2.52186068e-01\n",
      "  1.16087909e-01 -3.84146924e-02  8.02679884e-02  0.00000000e+00\n",
      "  3.88481547e-03 -6.56418752e-02  1.86046252e-01]\n",
      "\n",
      "R-Squared:  0.7101698428464264\n",
      "\n",
      "Regression Equation:\n",
      "\n",
      "-13.937196263211533+(0.040752884049234106 * Max Temp)+(0.3333190813919131 * Min Temp)-(0.006381582958586878 * sqr(Min Temp))+(5.462232187690856 * log(Relative Humidity))+(0.0053255436008816225 * Wind Speed)+(0.4279738812013854 * Cloud Coverage)-(0.06700181941080478 * Bright Sunshine)+(1.3814434921167061e-06 * X_COR)+(4.5286653199391965e-07 * Y_COR)+(0.019601003186886262 * LATITUDE)-(0.001277578245244073 * LONGITUDE)-(0.0010804629592380188 * ALT)-(0.1910015423489351 * Station_Barisal)-(0.15331690124169753 * Station_Bhola)-(0.047627815712684235 * Station_Bogra)-(0.052871547569380416 * Station_Chandpur)+(2.7755575615628914e-17 * Station_Chittagong (City-Ambagan))-(0.0949217571921673 * Station_Chittagong (IAP-Patenga))+(2.7755575615628914e-17 * Station_Chuadanga)-(0.07208636531498992 * Station_Comilla)+(0.06845451444610554 * Station_Coxs Bazar)-(0.0082593618529125 * Station_Dhaka)+(0.2266928538631236 * Station_Dinajpur)+(0.10708722164053479 * Station_Faridpur)-(0.005991791655436497 * Station_Feni)+(0.14276253229193583 * Station_Hatiya)-(0.014986184946249318 * Station_Ishurdi)-(0.055943545649176085 * Station_Jessore)+(0.01827326317391957 * Station_Khepupara)-(0.03381500771068893 * Station_Khulna)-(0.05552197846956256 * Station_Kutubdia)-(0.03992526551265616 * Station_Madaripur)+(0.190588139931827 * Station_Maijdee Court)-(0.0853033352515026 * Station_Mongla)-(0.17638177746609832 * Station_Mymensingh)-(0.16673153961396459 * Station_Patuakhali)+(0.06279386864468028 * Station_Rajshahi)-(0.1300844850616176 * Station_Rangamati)+(0.03370134340548062 * Station_Rangpur)+(0.25218606777329833 * Station_Sandwip)+(0.11608790915423611 * Station_Satkhira)-(0.038414692360822456 * Station_Sitakunda)+(0.08026798839412375 * Station_Srimangal)+(0.003884815471142767 * Station_Sylhet)-(0.06564187523307054 * Station_Tangail)+(0.18604625197121838 * Station_Teknaf)\n"
     ]
    }
   ],
   "source": [
    "#dataset = dataset[dataset['inverse(Wind Speed)'] != \"inf\"]\n",
    "# Replacing infinite with nan \n",
    "dataset.replace([np.inf, -np.inf], np.nan, inplace=True)   \n",
    "# Dropping all the rows with nan values \n",
    "dataset.dropna(inplace=True) \n",
    "X = dataset[xcollist]\n",
    "#y = dataset['Rainfall']\n",
    "y = dataset['ln(Rainfall)']\n",
    "\n",
    "regr = linear_model.LinearRegression()\n",
    "regr.fit(X, y)\n",
    "\n",
    "print(\"Intercept: \",regr.intercept_)\n",
    "print(\"\\nCoefficient: \",regr.coef_) \n",
    "print(\"\\nR-Squared: \",regr.score(X, y))\n",
    "\n",
    "equation =str(regr.intercept_)\n",
    "for i in range(len(xcollist)):\n",
    "    if regr.coef_[i]>0:\n",
    "        equation+=\"+\"\n",
    "        equation+=\"(\"+str(regr.coef_[i])+\" * \"+str(xcollist[i])+\")\"\n",
    "    if regr.coef_[i]<0:\n",
    "        equation+=\"-\"\n",
    "        equation+=\"(\"+str(regr.coef_[i]*-1)+\" * \"+str(xcollist[i])+\")\"\n",
    "\n",
    "print(\"\\nRegression Equation:\\n\")\n",
    "print(equation)"
   ]
  },
  {
   "cell_type": "code",
   "execution_count": 10,
   "metadata": {},
   "outputs": [
    {
     "name": "stdout",
     "output_type": "stream",
     "text": [
      "                            OLS Regression Results                            \n",
      "==============================================================================\n",
      "Dep. Variable:           ln(Rainfall)   R-squared:                       0.710\n",
      "Model:                            OLS   Adj. R-squared:                  0.710\n",
      "Method:                 Least Squares   F-statistic:                     1097.\n",
      "Date:                Sat, 09 Jan 2021   Prob (F-statistic):               0.00\n",
      "Time:                        20:04:33   Log-Likelihood:                -22501.\n",
      "No. Observations:               17057   AIC:                         4.508e+04\n",
      "Df Residuals:                   17018   BIC:                         4.538e+04\n",
      "Df Model:                          38                                         \n",
      "Covariance Type:            nonrobust                                         \n",
      "=====================================================================================================\n",
      "                                        coef    std err          t      P>|t|      [0.025      0.975]\n",
      "-----------------------------------------------------------------------------------------------------\n",
      "const                                -0.0021      0.000     -8.220      0.000      -0.003      -0.002\n",
      "Max Temp                              0.0408      0.005      8.677      0.000       0.032       0.050\n",
      "Min Temp                              0.3333      0.019     17.473      0.000       0.296       0.371\n",
      "sqr(Min Temp)                        -0.0064      0.000    -13.092      0.000      -0.007      -0.005\n",
      "log(Relative Humidity)                5.4622      0.287     19.037      0.000       4.900       6.025\n",
      "Wind Speed                            0.0053      0.009      0.614      0.539      -0.012       0.022\n",
      "Cloud Coverage                        0.4280      0.010     44.773      0.000       0.409       0.447\n",
      "Bright Sunshine                      -0.0670      0.008     -8.573      0.000      -0.082      -0.052\n",
      "X_COR                              2.891e-06   1.16e-07     24.915      0.000    2.66e-06    3.12e-06\n",
      "Y_COR                              7.299e-07    1.2e-07      6.078      0.000    4.95e-07    9.65e-07\n",
      "LATITUDE                             -0.0146      0.010     -1.521      0.128      -0.033       0.004\n",
      "LONGITUDE                            -0.1575      0.007    -21.071      0.000      -0.172      -0.143\n",
      "ALT                                  -0.0009      0.001     -1.279      0.201      -0.002       0.000\n",
      "Station_Barisal                      -0.1894      0.035     -5.355      0.000      -0.259      -0.120\n",
      "Station_Bhola                        -0.1516      0.042     -3.583      0.000      -0.235      -0.069\n",
      "Station_Bogra                        -0.0441      0.034     -1.305      0.192      -0.110       0.022\n",
      "Station_Chandpur                     -0.0493      0.041     -1.212      0.226      -0.129       0.030\n",
      "Station_Chittagong (City-Ambagan) -4.083e-17   1.97e-17     -2.077      0.038   -7.94e-17    -2.3e-18\n",
      "Station_Chittagong (IAP-Patenga)     -0.0949      0.037     -2.586      0.010      -0.167      -0.023\n",
      "Station_Chuadanga                 -2.619e-17   2.44e-17     -1.075      0.282   -7.39e-17    2.16e-17\n",
      "Station_Comilla                      -0.0670      0.034     -1.963      0.050      -0.134      -0.000\n",
      "Station_Coxs Bazar                    0.0642      0.035      1.818      0.069      -0.005       0.133\n",
      "Station_Dhaka                        -0.0039      0.036     -0.107      0.915      -0.075       0.067\n",
      "Station_Dinajpur                      0.2254      0.033      6.833      0.000       0.161       0.290\n",
      "Station_Faridpur                      0.1097      0.035      3.157      0.002       0.042       0.178\n",
      "Station_Feni                         -0.0026      0.043     -0.060      0.952      -0.087       0.082\n",
      "Station_Hatiya                        0.1433      0.041      3.506      0.000       0.063       0.223\n",
      "Station_Ishurdi                      -0.0137      0.038     -0.360      0.719      -0.088       0.061\n",
      "Station_Jessore                      -0.0552      0.035     -1.592      0.111      -0.123       0.013\n",
      "Station_Khepupara                     0.0167      0.043      0.391      0.696      -0.067       0.101\n",
      "Station_Khulna                       -0.0328      0.034     -0.957      0.338      -0.100       0.034\n",
      "Station_Kutubdia                     -0.0581      0.045     -1.287      0.198      -0.147       0.030\n",
      "Station_Madaripur                    -0.0376      0.047     -0.805      0.421      -0.129       0.054\n",
      "Station_Maijdee Court                 0.1930      0.036      5.413      0.000       0.123       0.263\n",
      "Station_Mongla                       -0.0712      0.050     -1.429      0.153      -0.169       0.026\n",
      "Station_Mymensingh                   -0.1688      0.034     -4.992      0.000      -0.235      -0.103\n",
      "Station_Patuakhali                   -0.1666      0.043     -3.879      0.000      -0.251      -0.082\n",
      "Station_Rajshahi                      0.0621      0.037      1.678      0.093      -0.010       0.135\n",
      "Station_Rangamati                    -0.1373      0.017     -7.917      0.000      -0.171      -0.103\n",
      "Station_Rangpur                       0.0357      0.034      1.048      0.295      -0.031       0.103\n",
      "Station_Sandwip                       0.2535      0.041      6.216      0.000       0.174       0.333\n",
      "Station_Satkhira                      0.1158      0.034      3.417      0.001       0.049       0.182\n",
      "Station_Sitakunda                    -0.0367      0.045     -0.816      0.414      -0.125       0.051\n",
      "Station_Srimangal                     0.0881      0.034      2.557      0.011       0.021       0.156\n",
      "Station_Syedpur                            0          0        nan        nan           0           0\n",
      "Station_Sylhet                        0.0147      0.032      0.452      0.651      -0.049       0.078\n",
      "Station_Tangail                      -0.1223      0.052     -2.375      0.018      -0.223      -0.021\n",
      "Station_Teknaf                        0.1788      0.044      4.102      0.000       0.093       0.264\n",
      "==============================================================================\n",
      "Omnibus:                     2592.996   Durbin-Watson:                   1.750\n",
      "Prob(Omnibus):                  0.000   Jarque-Bera (JB):             5932.277\n",
      "Skew:                          -0.887   Prob(JB):                         0.00\n",
      "Kurtosis:                       5.281   Cond. No.                     2.92e+21\n",
      "==============================================================================\n",
      "\n",
      "Warnings:\n",
      "[1] Standard Errors assume that the covariance matrix of the errors is correctly specified.\n",
      "[2] The smallest eigenvalue is 1.3e-27. This might indicate that there are\n",
      "strong multicollinearity problems or that the design matrix is singular.\n"
     ]
    },
    {
     "name": "stderr",
     "output_type": "stream",
     "text": [
      "G:\\anaconda\\lib\\site-packages\\statsmodels\\base\\model.py:1362: RuntimeWarning: invalid value encountered in true_divide\n",
      "  return self.params / self.bse\n",
      "G:\\anaconda\\lib\\site-packages\\scipy\\stats\\_distn_infrastructure.py:903: RuntimeWarning: invalid value encountered in greater\n",
      "  return (a < x) & (x < b)\n",
      "G:\\anaconda\\lib\\site-packages\\scipy\\stats\\_distn_infrastructure.py:903: RuntimeWarning: invalid value encountered in less\n",
      "  return (a < x) & (x < b)\n",
      "G:\\anaconda\\lib\\site-packages\\scipy\\stats\\_distn_infrastructure.py:1912: RuntimeWarning: invalid value encountered in less_equal\n",
      "  cond2 = cond0 & (x <= _a)\n"
     ]
    }
   ],
   "source": [
    "# with statsmodels\n",
    "X = sm.add_constant(X) # adding a constant\n",
    " \n",
    "model = sm.OLS(y, X).fit()\n",
    "predictions = model.predict(X) \n",
    " \n",
    "print_model = model.summary()\n",
    "print(print_model)"
   ]
  },
  {
   "cell_type": "code",
   "execution_count": 10,
   "metadata": {},
   "outputs": [],
   "source": []
  },
  {
   "cell_type": "code",
   "execution_count": null,
   "metadata": {},
   "outputs": [],
   "source": []
  }
 ],
 "metadata": {
  "kernelspec": {
   "display_name": "Python 3",
   "language": "python",
   "name": "python3"
  },
  "language_info": {
   "codemirror_mode": {
    "name": "ipython",
    "version": 3
   },
   "file_extension": ".py",
   "mimetype": "text/x-python",
   "name": "python",
   "nbconvert_exporter": "python",
   "pygments_lexer": "ipython3",
   "version": "3.7.6"
  }
 },
 "nbformat": 4,
 "nbformat_minor": 4
}
