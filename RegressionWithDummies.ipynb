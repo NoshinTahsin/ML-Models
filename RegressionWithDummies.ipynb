{
 "cells": [
  {
   "cell_type": "code",
   "execution_count": 1,
   "metadata": {},
   "outputs": [
    {
     "name": "stdout",
     "output_type": "stream",
     "text": [
      "(21120, 49)\n"
     ]
    }
   ],
   "source": [
    "import pandas as pd\n",
    "import numpy as np\n",
    "from sklearn import linear_model\n",
    "import statsmodels.api as sm\n",
    "dataset = pd.read_csv(\"C:/Users/noshi/Desktop/poralekha/Sem8/MachineLearning/OneHotEncoded.csv\")\n",
    "print(dataset.shape)"
   ]
  },
  {
   "cell_type": "code",
   "execution_count": 2,
   "metadata": {},
   "outputs": [
    {
     "name": "stdout",
     "output_type": "stream",
     "text": [
      "['Unnamed: 0', 'Station Names', 'Max Temp', 'Min Temp', 'Relative Humidity', 'Wind Speed', 'Cloud Coverage', 'Bright Sunshine', 'X_COR', 'Y_COR', 'LATITUDE', 'LONGITUDE', 'ALT', 'Rainfall', 'Station_Barisal', 'Station_Bhola', 'Station_Bogra', 'Station_Chandpur', 'Station_Chittagong (City-Ambagan)', 'Station_Chittagong (IAP-Patenga)', 'Station_Chuadanga', 'Station_Comilla', 'Station_Coxs Bazar', 'Station_Dhaka', 'Station_Dinajpur', 'Station_Faridpur', 'Station_Feni', 'Station_Hatiya', 'Station_Ishurdi', 'Station_Jessore', 'Station_Khepupara', 'Station_Khulna', 'Station_Kutubdia', 'Station_Madaripur', 'Station_Maijdee Court', 'Station_Mongla', 'Station_Mymensingh', 'Station_Patuakhali', 'Station_Rajshahi', 'Station_Rangamati', 'Station_Rangpur', 'Station_Sandwip', 'Station_Satkhira', 'Station_Sitakunda', 'Station_Srimangal', 'Station_Syedpur', 'Station_Sylhet', 'Station_Tangail', 'Station_Teknaf']\n"
     ]
    }
   ],
   "source": [
    "columns = dataset.columns.to_list()\n",
    "print(columns)"
   ]
  },
  {
   "cell_type": "code",
   "execution_count": 5,
   "metadata": {},
   "outputs": [
    {
     "name": "stdout",
     "output_type": "stream",
     "text": [
      "-2301.7206595687967\n",
      "[ 7.79078082e+00 -7.28518811e+00  2.97821066e+00  7.87639030e+00\n",
      "  6.33965686e+01 -3.93507563e+01  1.20088793e-04 -9.39505002e-05\n",
      "  3.21249099e+00  2.31098051e+01 -2.63825190e-02 -3.33249761e+01\n",
      " -7.18919426e+01  2.54675693e+01 -3.86212066e+01  7.70448978e+00\n",
      " -1.09777594e+01 -1.27298613e+01 -3.32075804e+01  6.06343619e+01\n",
      " -1.23911196e+01  7.57126565e+01 -2.79034371e+00 -4.50657374e+00\n",
      "  4.11681736e+01 -8.55532740e+00 -3.66342435e+01 -8.31911363e-01\n",
      " -3.53057163e+00  7.70971652e+00 -5.10035809e+01  4.04105723e+01\n",
      " -3.78629713e+00 -3.39809637e+01 -3.43257287e+01  3.32005219e+01\n",
      " -6.87794563e+01  4.79926755e+01  7.92316340e+01  2.49999297e+00\n",
      " -2.93365222e+01 -5.24175580e+01  5.20553053e+00  4.06382710e+01\n",
      " -1.96592116e+01  9.57065701e+01]\n",
      "R-Squared:  0.6726355191436153\n",
      "-2301.7206595687967+(7.790780823507804 * Max Temp)-(7.285188108129824 * Min Temp)+(2.978210660825997 * Relative Humidity)+(7.876390299103756 * Wind Speed)+(63.3965685846223 * Cloud Coverage)-(39.35075631117582 * Bright Sunshine)+(0.00012008879288700428 * X_COR)-(9.395050020135987e-05 * Y_COR)+(3.2124909895945795 * LATITUDE)+(23.109805126496944 * LONGITUDE)-(0.026382518959255398 * ALT)-(33.32497608959907 * Station_Barisal)-(71.89194262894168 * Station_Bhola)+(25.467569278637804 * Station_Bogra)-(38.6212065761479 * Station_Chandpur)+(7.7044897826465535 * Station_Chittagong (City-Ambagan))-(10.977759379049209 * Station_Chittagong (IAP-Patenga))-(12.729861326637462 * Station_Chuadanga)-(33.20758037341962 * Station_Comilla)+(60.63436193657184 * Station_Coxs Bazar)-(12.391119592344975 * Station_Dhaka)+(75.71265647428682 * Station_Dinajpur)-(2.790343708721548 * Station_Faridpur)-(4.506573737247224 * Station_Feni)+(41.16817358728707 * Station_Hatiya)-(8.555327396435505 * Station_Ishurdi)-(36.634243475919405 * Station_Jessore)-(0.8319113632875332 * Station_Khepupara)-(3.530571630844492 * Station_Khulna)+(7.709716522118657 * Station_Kutubdia)-(51.00358087249692 * Station_Madaripur)+(40.410572292815715 * Station_Maijdee Court)-(3.786297130798853 * Station_Mongla)-(33.98096372656385 * Station_Mymensingh)-(34.32572872163277 * Station_Patuakhali)+(33.20052185346288 * Station_Rajshahi)-(68.77945626523231 * Station_Rangamati)+(47.99267546280794 * Station_Rangpur)+(79.23163396963812 * Station_Sandwip)+(2.499992967630065 * Station_Satkhira)-(29.336522226618577 * Station_Sitakunda)-(52.4175579910746 * Station_Srimangal)+(5.205530533080677 * Station_Syedpur)+(40.63827104941129 * Station_Sylhet)-(19.65921155954132 * Station_Tangail)+(95.70657006793968 * Station_Teknaf)\n"
     ]
    }
   ],
   "source": [
    "xcollist=['Max Temp', 'Min Temp', 'Relative Humidity', 'Wind Speed', 'Cloud Coverage', 'Bright Sunshine','X_COR', 'Y_COR', 'LATITUDE', 'LONGITUDE', 'ALT','Station_Barisal', 'Station_Bhola', 'Station_Bogra', 'Station_Chandpur', 'Station_Chittagong (City-Ambagan)', 'Station_Chittagong (IAP-Patenga)', 'Station_Chuadanga', 'Station_Comilla', 'Station_Coxs Bazar', 'Station_Dhaka', 'Station_Dinajpur', 'Station_Faridpur', 'Station_Feni', 'Station_Hatiya', 'Station_Ishurdi', 'Station_Jessore', 'Station_Khepupara', 'Station_Khulna', 'Station_Kutubdia', 'Station_Madaripur', 'Station_Maijdee Court', 'Station_Mongla', 'Station_Mymensingh', 'Station_Patuakhali', 'Station_Rajshahi', 'Station_Rangamati', 'Station_Rangpur', 'Station_Sandwip', 'Station_Satkhira', 'Station_Sitakunda', 'Station_Srimangal', 'Station_Syedpur', 'Station_Sylhet', 'Station_Tangail', 'Station_Teknaf']\n",
    "X = dataset[xcollist]\n",
    "y = dataset['Rainfall']\n",
    "\n",
    "regr = linear_model.LinearRegression()\n",
    "regr.fit(X, y)\n",
    "\n",
    "print(regr.intercept_)\n",
    "print(regr.coef_) \n",
    "print(\"R-Squared: \",regr.score(X, y))\n",
    "\n",
    "equation =str(regr.intercept_)\n",
    "for i in range(len(xcollist)):\n",
    "    if regr.coef_[i]>0:\n",
    "        equation+=\"+\"\n",
    "        equation+=\"(\"+str(regr.coef_[i])+\" * \"+str(xcollist[i])+\")\"\n",
    "    if regr.coef_[i]<0:\n",
    "        equation+=\"-\"\n",
    "        equation+=\"(\"+str(regr.coef_[i]*-1)+\" * \"+str(xcollist[i])+\")\"\n",
    "print(equation)"
   ]
  },
  {
   "cell_type": "code",
   "execution_count": 6,
   "metadata": {},
   "outputs": [
    {
     "name": "stdout",
     "output_type": "stream",
     "text": [
      "                            OLS Regression Results                            \n",
      "==============================================================================\n",
      "Dep. Variable:               Rainfall   R-squared:                       0.673\n",
      "Model:                            OLS   Adj. R-squared:                  0.672\n",
      "Method:                 Least Squares   F-statistic:                     1083.\n",
      "Date:                Sat, 09 Jan 2021   Prob (F-statistic):               0.00\n",
      "Time:                        15:43:39   Log-Likelihood:            -1.3384e+05\n",
      "No. Observations:               21120   AIC:                         2.678e+05\n",
      "Df Residuals:                   21079   BIC:                         2.681e+05\n",
      "Df Model:                          40                                         \n",
      "Covariance Type:            nonrobust                                         \n",
      "=====================================================================================================\n",
      "                                        coef    std err          t      P>|t|      [0.025      0.975]\n",
      "-----------------------------------------------------------------------------------------------------\n",
      "const                                -3.3282      0.493     -6.755      0.000      -4.294      -2.362\n",
      "Max Temp                              7.7908      0.612     12.734      0.000       6.592       8.990\n",
      "Min Temp                             -7.2852      0.533    -13.671      0.000      -8.330      -6.241\n",
      "Relative Humidity                     2.9782      0.218     13.671      0.000       2.551       3.405\n",
      "Wind Speed                            7.8764      1.182      6.664      0.000       5.560      10.193\n",
      "Cloud Coverage                       63.3966      1.237     51.243      0.000      60.972      65.822\n",
      "Bright Sunshine                     -39.3508      1.006    -39.106      0.000     -41.323     -37.378\n",
      "X_COR                                 0.0003   2.35e-05     10.699      0.000       0.000       0.000\n",
      "Y_COR                                -0.0002   1.31e-05    -14.676      0.000      -0.000      -0.000\n",
      "LATITUDE                              0.6176      2.850      0.217      0.828      -4.969       6.205\n",
      "LONGITUDE                            -1.8772      0.859     -2.186      0.029      -3.560      -0.194\n",
      "ALT                                   0.5684      0.114      4.984      0.000       0.345       0.792\n",
      "Station_Barisal                     -38.1214      4.958     -7.689      0.000     -47.840     -28.403\n",
      "Station_Bhola                       -73.8350      5.725    -12.898      0.000     -85.056     -62.614\n",
      "Station_Bogra                        28.7884      4.715      6.106      0.000      19.547      38.030\n",
      "Station_Chandpur                    -34.1343      5.674     -6.016      0.000     -45.256     -23.012\n",
      "Station_Chittagong (City-Ambagan)    61.5256      9.901      6.214      0.000      42.120      80.932\n",
      "Station_Chittagong (IAP-Patenga)     -5.4173      5.095     -1.063      0.288     -15.403       4.569\n",
      "Station_Chuadanga                   -30.4945      8.358     -3.649      0.000     -46.877     -14.112\n",
      "Station_Comilla                     -21.4565      4.994     -4.296      0.000     -31.245     -11.668\n",
      "Station_Coxs Bazar                   57.6293      4.804     11.996      0.000      48.213      67.045\n",
      "Station_Dhaka                        -5.3834      5.164     -1.043      0.297     -15.504       4.738\n",
      "Station_Dinajpur                     70.7095      4.495     15.730      0.000      61.898      79.520\n",
      "Station_Faridpur                     -4.3767      4.801     -0.912      0.362     -13.787       5.033\n",
      "Station_Feni                          4.1395      6.092      0.680      0.497      -7.801      16.080\n",
      "Station_Hatiya                       39.7070      5.615      7.071      0.000      28.701      50.713\n",
      "Station_Ishurdi                     -15.4906      5.329     -2.907      0.004     -25.936      -5.046\n",
      "Station_Jessore                     -49.9816      5.139     -9.727      0.000     -60.054     -39.910\n",
      "Station_Khepupara                   -16.4132      6.340     -2.589      0.010     -28.840      -3.986\n",
      "Station_Khulna                      -15.8747      5.058     -3.139      0.002     -25.788      -5.961\n",
      "Station_Kutubdia                      6.9253      6.159      1.124      0.261      -5.147      18.998\n",
      "Station_Madaripur                   -52.2431      6.438     -8.115      0.000     -64.862     -39.624\n",
      "Station_Maijdee Court                44.4001      4.938      8.992      0.000      34.722      54.078\n",
      "Station_Mongla                      -16.6876      7.841     -2.128      0.033     -32.056      -1.319\n",
      "Station_Mymensingh                  -19.4186      5.028     -3.862      0.000     -29.274      -9.563\n",
      "Station_Patuakhali                  -43.3478      6.135     -7.065      0.000     -55.374     -31.322\n",
      "Station_Rajshahi                     20.2122      5.483      3.686      0.000       9.465      30.959\n",
      "Station_Rangamati                   -87.8782      3.529    -24.901      0.000     -94.796     -80.961\n",
      "Station_Rangpur                      53.0368      4.774     11.109      0.000      43.679      62.395\n",
      "Station_Sandwip                      83.1977      5.626     14.787      0.000      72.170      94.226\n",
      "Station_Satkhira                    -18.4840      5.449     -3.392      0.001     -29.164      -7.804\n",
      "Station_Sitakunda                   -20.2477      6.381     -3.173      0.002     -32.755      -7.741\n",
      "Station_Srimangal                   -31.1328      5.429     -5.734      0.000     -41.774     -20.491\n",
      "Station_Syedpur                      -4.6112      4.014     -1.149      0.251     -12.478       3.256\n",
      "Station_Sylhet                       65.2233      5.615     11.617      0.000      54.218      76.228\n",
      "Station_Tangail                     -21.6606      7.253     -2.986      0.003     -35.877      -7.444\n",
      "Station_Teknaf                       87.8679      5.888     14.923      0.000      76.327      99.409\n",
      "==============================================================================\n",
      "Omnibus:                     7120.310   Durbin-Watson:                   1.399\n",
      "Prob(Omnibus):                  0.000   Jarque-Bera (JB):            51414.331\n",
      "Skew:                           1.433   Prob(JB):                         0.00\n",
      "Kurtosis:                      10.086   Cond. No.                     2.45e+21\n",
      "==============================================================================\n",
      "\n",
      "Warnings:\n",
      "[1] Standard Errors assume that the covariance matrix of the errors is correctly specified.\n",
      "[2] The smallest eigenvalue is 2.22e-27. This might indicate that there are\n",
      "strong multicollinearity problems or that the design matrix is singular.\n"
     ]
    }
   ],
   "source": [
    "# with statsmodels\n",
    "X = sm.add_constant(X) # adding a constant\n",
    " \n",
    "model = sm.OLS(y, X).fit()\n",
    "predictions = model.predict(X) \n",
    " \n",
    "print_model = model.summary()\n",
    "print(print_model)"
   ]
  },
  {
   "cell_type": "code",
   "execution_count": 10,
   "metadata": {},
   "outputs": [],
   "source": []
  },
  {
   "cell_type": "code",
   "execution_count": null,
   "metadata": {},
   "outputs": [],
   "source": []
  }
 ],
 "metadata": {
  "kernelspec": {
   "display_name": "Python 3",
   "language": "python",
   "name": "python3"
  },
  "language_info": {
   "codemirror_mode": {
    "name": "ipython",
    "version": 3
   },
   "file_extension": ".py",
   "mimetype": "text/x-python",
   "name": "python",
   "nbconvert_exporter": "python",
   "pygments_lexer": "ipython3",
   "version": "3.7.6"
  }
 },
 "nbformat": 4,
 "nbformat_minor": 4
}
