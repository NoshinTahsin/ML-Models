{
 "cells": [
  {
   "cell_type": "code",
   "execution_count": 14,
   "metadata": {},
   "outputs": [
    {
     "name": "stdout",
     "output_type": "stream",
     "text": [
      "(21120, 110)\n"
     ]
    },
    {
     "name": "stderr",
     "output_type": "stream",
     "text": [
      "G:\\anaconda\\lib\\site-packages\\IPython\\core\\interactiveshell.py:3063: DtypeWarning: Columns (44,45,49,50,64,65) have mixed types.Specify dtype option on import or set low_memory=False.\n",
      "  interactivity=interactivity, compiler=compiler, result=result)\n"
     ]
    }
   ],
   "source": [
    "import pandas as pd\n",
    "import numpy as np\n",
    "from sklearn import linear_model\n",
    "import statsmodels.api as sm\n",
    "dataset = pd.read_csv(\"C:/Users/noshi/Desktop/poralekha/Sem8/MachineLearning/FinalCalculatedData.csv\")\n",
    "print(dataset.shape)"
   ]
  },
  {
   "cell_type": "code",
   "execution_count": 15,
   "metadata": {},
   "outputs": [
    {
     "name": "stdout",
     "output_type": "stream",
     "text": [
      "['Station Names', 'Max Temp', 'Min Temp', 'Relative Humidity', 'Wind Speed', 'Cloud Coverage', 'Bright Sunshine', 'Station Number', 'X_COR', 'Y_COR', 'LATITUDE', 'LONGITUDE', 'ALT', 'Period', 'ln(Max Temp)', 'log(Max Temp)', 'sqr(Max Temp)', 'cube(Max Temp)', 'inverse(Max Temp)', 'ln(Min Temp)', 'log(Min Temp)', 'sqr(Min Temp)', 'cube(Min Temp)', 'inverse(Min Temp)', 'ln(Relative Humidity)', 'log(Relative Humidity)', 'sqr(Relative Humidity)', 'cube(Relative Humidity)', 'inverse(Relative Humidity)', 'ln(Wind Speed)', 'log(Wind Speed)', 'sqr(Wind Speed)', 'cube(Wind Speed)', 'inverse(Wind Speed)', 'ln(Cloud Coverage)', 'log(Cloud Coverage)', 'sqr(Cloud Coverage)', 'cube(Cloud Coverage)', 'inverse(Cloud Coverage)', 'ln(Bright Sunshine)', 'log(Bright Sunshine)', 'sqr(Bright Sunshine)', 'cube(Bright Sunshine)', 'inverse(Bright Sunshine)', 'ln(X_COR)', 'log(X_COR)', 'sqr(X_COR)', 'cube(X_COR)', 'inverse(X_COR)', 'ln(Y_COR)', 'log(Y_COR)', 'sqr(Y_COR)', 'cube(Y_COR)', 'inverse(Y_COR)', 'ln(LATITUDE)', 'log(LATITUDE)', 'sqr(LATITUDE)', 'cube(LATITUDE)', 'inverse(LATITUDE)', 'ln(LONGITUDE)', 'log(LONGITUDE)', 'sqr(LONGITUDE)', 'cube(LONGITUDE)', 'inverse(LONGITUDE)', 'ln(ALT)', 'log(ALT)', 'sqr(ALT)', 'cube(ALT)', 'inverse(ALT)', 'ln(Rainfall)', 'log(Rainfall)', 'sqr(Rainfall)', 'cube(Rainfall)', 'inverse(Rainfall)', 'Station_Barisal', 'Station_Bhola', 'Station_Bogra', 'Station_Chandpur', 'Station_Chittagong (City-Ambagan)', 'Station_Chittagong (IAP-Patenga)', 'Station_Chuadanga', 'Station_Comilla', 'Station_Coxs Bazar', 'Station_Dhaka', 'Station_Dinajpur', 'Station_Faridpur', 'Station_Feni', 'Station_Hatiya', 'Station_Ishurdi', 'Station_Jessore', 'Station_Khepupara', 'Station_Khulna', 'Station_Kutubdia', 'Station_Madaripur', 'Station_Maijdee Court', 'Station_Mongla', 'Station_Mymensingh', 'Station_Patuakhali', 'Station_Rajshahi', 'Station_Rangamati', 'Station_Rangpur', 'Station_Sandwip', 'Station_Satkhira', 'Station_Sitakunda', 'Station_Srimangal', 'Station_Syedpur', 'Station_Sylhet', 'Station_Tangail', 'Station_Teknaf', 'Rainfall']\n"
     ]
    }
   ],
   "source": [
    "columns = dataset.columns.to_list()\n",
    "print(columns)"
   ]
  },
  {
   "cell_type": "code",
   "execution_count": 22,
   "metadata": {},
   "outputs": [
    {
     "data": {
      "text/plain": [
       "<bound method Series.unique of 0        2.204082\n",
       "1        2.204082\n",
       "2        2.204082\n",
       "3        2.204082\n",
       "4        2.204082\n",
       "           ...   \n",
       "21115    0.357143\n",
       "21116    0.416667\n",
       "21117         inf\n",
       "21118    0.555556\n",
       "21119    0.333333\n",
       "Name: inverse(Wind Speed), Length: 21120, dtype: float64>"
      ]
     },
     "execution_count": 22,
     "metadata": {},
     "output_type": "execute_result"
    }
   ],
   "source": [
    "dataset['inverse(Wind Speed)'].unique"
   ]
  },
  {
   "cell_type": "code",
   "execution_count": 105,
   "metadata": {},
   "outputs": [],
   "source": [
    "#R-squared: 0.673\n",
    "xcollist=['Max Temp', 'Min Temp', 'Relative Humidity', 'Wind Speed', 'Cloud Coverage', 'Bright Sunshine','X_COR', 'Y_COR', 'LATITUDE', 'LONGITUDE', 'ALT','Station_Barisal', 'Station_Bhola', 'Station_Bogra', 'Station_Chandpur', 'Station_Chittagong (City-Ambagan)', 'Station_Chittagong (IAP-Patenga)', 'Station_Chuadanga', 'Station_Comilla', 'Station_Coxs Bazar', 'Station_Dhaka', 'Station_Dinajpur', 'Station_Faridpur', 'Station_Feni', 'Station_Hatiya', 'Station_Ishurdi', 'Station_Jessore', 'Station_Khepupara', 'Station_Khulna', 'Station_Kutubdia', 'Station_Madaripur', 'Station_Maijdee Court', 'Station_Mongla', 'Station_Mymensingh', 'Station_Patuakhali', 'Station_Rajshahi', 'Station_Rangamati', 'Station_Rangpur', 'Station_Sandwip', 'Station_Satkhira', 'Station_Sitakunda', 'Station_Srimangal', 'Station_Syedpur', 'Station_Sylhet', 'Station_Tangail', 'Station_Teknaf']\n",
    "#R-squared: 0.672\n",
    "#0.708 (ln(Rainfall))\n",
    "#xcollist=['Max Temp', 'ln(Min Temp)', 'Relative Humidity', 'Wind Speed', 'Cloud Coverage', 'Bright Sunshine','X_COR', 'Y_COR', 'LATITUDE', 'LONGITUDE', 'ALT','Station_Barisal', 'Station_Bhola', 'Station_Bogra', 'Station_Chandpur', 'Station_Chittagong (City-Ambagan)', 'Station_Chittagong (IAP-Patenga)', 'Station_Chuadanga', 'Station_Comilla', 'Station_Coxs Bazar', 'Station_Dhaka', 'Station_Dinajpur', 'Station_Faridpur', 'Station_Feni', 'Station_Hatiya', 'Station_Ishurdi', 'Station_Jessore', 'Station_Khepupara', 'Station_Khulna', 'Station_Kutubdia', 'Station_Madaripur', 'Station_Maijdee Court', 'Station_Mongla', 'Station_Mymensingh', 'Station_Patuakhali', 'Station_Rajshahi', 'Station_Rangamati', 'Station_Rangpur', 'Station_Sandwip', 'Station_Satkhira', 'Station_Sitakunda', 'Station_Srimangal', 'Station_Syedpur', 'Station_Sylhet', 'Station_Tangail', 'Station_Teknaf']\n",
    "#R-squared: 0.671\n",
    "#0.707 (ln(Rainfall))\n",
    "#xcollist=['Max Temp', 'Min Temp', 'ln(Relative Humidity)', 'Wind Speed', 'Cloud Coverage', 'Bright Sunshine','X_COR', 'Y_COR', 'LATITUDE', 'LONGITUDE', 'ALT','Station_Barisal', 'Station_Bhola', 'Station_Bogra', 'Station_Chandpur', 'Station_Chittagong (City-Ambagan)', 'Station_Chittagong (IAP-Patenga)', 'Station_Chuadanga', 'Station_Comilla', 'Station_Coxs Bazar', 'Station_Dhaka', 'Station_Dinajpur', 'Station_Faridpur', 'Station_Feni', 'Station_Hatiya', 'Station_Ishurdi', 'Station_Jessore', 'Station_Khepupara', 'Station_Khulna', 'Station_Kutubdia', 'Station_Madaripur', 'Station_Maijdee Court', 'Station_Mongla', 'Station_Mymensingh', 'Station_Patuakhali', 'Station_Rajshahi', 'Station_Rangamati', 'Station_Rangpur', 'Station_Sandwip', 'Station_Satkhira', 'Station_Sitakunda', 'Station_Srimangal', 'Station_Syedpur', 'Station_Sylhet', 'Station_Tangail', 'Station_Teknaf']\n",
    "#R-squared: 0.649\n",
    "#0.707 (ln(Rainfall))\n",
    "#xcollist=['Max Temp', 'Min Temp', 'Relative Humidity', 'inverse(Wind Speed)', 'Cloud Coverage', 'Bright Sunshine','X_COR', 'Y_COR', 'LATITUDE', 'LONGITUDE', 'ALT','Station_Barisal', 'Station_Bhola', 'Station_Bogra', 'Station_Chandpur', 'Station_Chittagong (City-Ambagan)', 'Station_Chittagong (IAP-Patenga)', 'Station_Chuadanga', 'Station_Comilla', 'Station_Coxs Bazar', 'Station_Dhaka', 'Station_Dinajpur', 'Station_Faridpur', 'Station_Feni', 'Station_Hatiya', 'Station_Ishurdi', 'Station_Jessore', 'Station_Khepupara', 'Station_Khulna', 'Station_Kutubdia', 'Station_Madaripur', 'Station_Maijdee Court', 'Station_Mongla', 'Station_Mymensingh', 'Station_Patuakhali', 'Station_Rajshahi', 'Station_Rangamati', 'Station_Rangpur', 'Station_Sandwip', 'Station_Satkhira', 'Station_Sitakunda', 'Station_Srimangal', 'Station_Syedpur', 'Station_Sylhet', 'Station_Tangail', 'Station_Teknaf']\n",
    "#0.649\n",
    "#0.707 (ln(Rainfall))\n",
    "#xcollist=['Max Temp', 'Min Temp', 'Relative Humidity', 'ln(Wind Speed)', 'Cloud Coverage', 'Bright Sunshine','X_COR', 'Y_COR', 'LATITUDE', 'LONGITUDE', 'ALT','Station_Barisal', 'Station_Bhola', 'Station_Bogra', 'Station_Chandpur', 'Station_Chittagong (City-Ambagan)', 'Station_Chittagong (IAP-Patenga)', 'Station_Chuadanga', 'Station_Comilla', 'Station_Coxs Bazar', 'Station_Dhaka', 'Station_Dinajpur', 'Station_Faridpur', 'Station_Feni', 'Station_Hatiya', 'Station_Ishurdi', 'Station_Jessore', 'Station_Khepupara', 'Station_Khulna', 'Station_Kutubdia', 'Station_Madaripur', 'Station_Maijdee Court', 'Station_Mongla', 'Station_Mymensingh', 'Station_Patuakhali', 'Station_Rajshahi', 'Station_Rangamati', 'Station_Rangpur', 'Station_Sandwip', 'Station_Satkhira', 'Station_Sitakunda', 'Station_Srimangal', 'Station_Syedpur', 'Station_Sylhet', 'Station_Tangail', 'Station_Teknaf']\n",
    "#0.626\n",
    "#0.715 (ln(Rainfall))\n",
    "#xcollist=['Max Temp', 'Min Temp', 'Relative Humidity', 'Wind Speed', 'ln(Cloud Coverage)', 'Bright Sunshine','X_COR', 'Y_COR', 'LATITUDE', 'LONGITUDE', 'ALT','Station_Barisal', 'Station_Bhola', 'Station_Bogra', 'Station_Chandpur', 'Station_Chittagong (City-Ambagan)', 'Station_Chittagong (IAP-Patenga)', 'Station_Chuadanga', 'Station_Comilla', 'Station_Coxs Bazar', 'Station_Dhaka', 'Station_Dinajpur', 'Station_Faridpur', 'Station_Feni', 'Station_Hatiya', 'Station_Ishurdi', 'Station_Jessore', 'Station_Khepupara', 'Station_Khulna', 'Station_Kutubdia', 'Station_Madaripur', 'Station_Maijdee Court', 'Station_Mongla', 'Station_Mymensingh', 'Station_Patuakhali', 'Station_Rajshahi', 'Station_Rangamati', 'Station_Rangpur', 'Station_Sandwip', 'Station_Satkhira', 'Station_Sitakunda', 'Station_Srimangal', 'Station_Syedpur', 'Station_Sylhet', 'Station_Tangail', 'Station_Teknaf']\n",
    "#0.616\n",
    "#0.688 (ln(Rainfall))\n",
    "#xcollist=['Max Temp', 'Min Temp', 'Relative Humidity', 'Wind Speed', 'inverse(Cloud Coverage)', 'Bright Sunshine','X_COR', 'Y_COR', 'LATITUDE', 'LONGITUDE', 'ALT','Station_Barisal', 'Station_Bhola', 'Station_Bogra', 'Station_Chandpur', 'Station_Chittagong (City-Ambagan)', 'Station_Chittagong (IAP-Patenga)', 'Station_Chuadanga', 'Station_Comilla', 'Station_Coxs Bazar', 'Station_Dhaka', 'Station_Dinajpur', 'Station_Faridpur', 'Station_Feni', 'Station_Hatiya', 'Station_Ishurdi', 'Station_Jessore', 'Station_Khepupara', 'Station_Khulna', 'Station_Kutubdia', 'Station_Madaripur', 'Station_Maijdee Court', 'Station_Mongla', 'Station_Mymensingh', 'Station_Patuakhali', 'Station_Rajshahi', 'Station_Rangamati', 'Station_Rangpur', 'Station_Sandwip', 'Station_Satkhira', 'Station_Sitakunda', 'Station_Srimangal', 'Station_Syedpur', 'Station_Sylhet', 'Station_Tangail', 'Station_Teknaf']\n",
    "#0.648\n",
    "#0.688 (ln(Rainfall))\n",
    "#xcollist=['Max Temp', 'Min Temp', 'log(Relative Humidity)', 'Wind Speed', 'Cloud Coverage', 'Bright Sunshine','X_COR', 'Y_COR', 'LATITUDE', 'LONGITUDE', 'ALT','Station_Barisal', 'Station_Bhola', 'Station_Bogra', 'Station_Chandpur', 'Station_Chittagong (City-Ambagan)', 'Station_Chittagong (IAP-Patenga)', 'Station_Chuadanga', 'Station_Comilla', 'Station_Coxs Bazar', 'Station_Dhaka', 'Station_Dinajpur', 'Station_Faridpur', 'Station_Feni', 'Station_Hatiya', 'Station_Ishurdi', 'Station_Jessore', 'Station_Khepupara', 'Station_Khulna', 'Station_Kutubdia', 'Station_Madaripur', 'Station_Maijdee Court', 'Station_Mongla', 'Station_Mymensingh', 'Station_Patuakhali', 'Station_Rajshahi', 'Station_Rangamati', 'Station_Rangpur', 'Station_Sandwip', 'Station_Satkhira', 'Station_Sitakunda', 'Station_Srimangal', 'Station_Syedpur', 'Station_Sylhet', 'Station_Tangail', 'Station_Teknaf']\n",
    "#0.648\n",
    "#0.708 (ln(Rainfall))\n",
    "#xcollist=['Max Temp', 'log(Min Temp)', 'Relative Humidity', 'Wind Speed', 'Cloud Coverage', 'Bright Sunshine','X_COR', 'Y_COR', 'LATITUDE', 'LONGITUDE', 'ALT','Station_Barisal', 'Station_Bhola', 'Station_Bogra', 'Station_Chandpur', 'Station_Chittagong (City-Ambagan)', 'Station_Chittagong (IAP-Patenga)', 'Station_Chuadanga', 'Station_Comilla', 'Station_Coxs Bazar', 'Station_Dhaka', 'Station_Dinajpur', 'Station_Faridpur', 'Station_Feni', 'Station_Hatiya', 'Station_Ishurdi', 'Station_Jessore', 'Station_Khepupara', 'Station_Khulna', 'Station_Kutubdia', 'Station_Madaripur', 'Station_Maijdee Court', 'Station_Mongla', 'Station_Mymensingh', 'Station_Patuakhali', 'Station_Rajshahi', 'Station_Rangamati', 'Station_Rangpur', 'Station_Sandwip', 'Station_Satkhira', 'Station_Sitakunda', 'Station_Srimangal', 'Station_Syedpur', 'Station_Sylhet', 'Station_Tangail', 'Station_Teknaf']\n",
    "#0.649\n",
    "#0.707 (ln(Rainfall))\n",
    "#xcollist=['Max Temp', 'Min Temp', 'Relative Humidity', 'log(Wind Speed)', 'Cloud Coverage', 'Bright Sunshine','X_COR', 'Y_COR', 'LATITUDE', 'LONGITUDE', 'ALT','Station_Barisal', 'Station_Bhola', 'Station_Bogra', 'Station_Chandpur', 'Station_Chittagong (City-Ambagan)', 'Station_Chittagong (IAP-Patenga)', 'Station_Chuadanga', 'Station_Comilla', 'Station_Coxs Bazar', 'Station_Dhaka', 'Station_Dinajpur', 'Station_Faridpur', 'Station_Feni', 'Station_Hatiya', 'Station_Ishurdi', 'Station_Jessore', 'Station_Khepupara', 'Station_Khulna', 'Station_Kutubdia', 'Station_Madaripur', 'Station_Maijdee Court', 'Station_Mongla', 'Station_Mymensingh', 'Station_Patuakhali', 'Station_Rajshahi', 'Station_Rangamati', 'Station_Rangpur', 'Station_Sandwip', 'Station_Satkhira', 'Station_Sitakunda', 'Station_Srimangal', 'Station_Syedpur', 'Station_Sylhet', 'Station_Tangail', 'Station_Teknaf']\n",
    "#0.626\n",
    "#0.715 (ln(Rainfall))\n",
    "#xcollist=['Max Temp', 'Min Temp', 'Relative Humidity', 'Wind Speed', 'log(Cloud Coverage)', 'Bright Sunshine','X_COR', 'Y_COR', 'LATITUDE', 'LONGITUDE', 'ALT','Station_Barisal', 'Station_Bhola', 'Station_Bogra', 'Station_Chandpur', 'Station_Chittagong (City-Ambagan)', 'Station_Chittagong (IAP-Patenga)', 'Station_Chuadanga', 'Station_Comilla', 'Station_Coxs Bazar', 'Station_Dhaka', 'Station_Dinajpur', 'Station_Faridpur', 'Station_Feni', 'Station_Hatiya', 'Station_Ishurdi', 'Station_Jessore', 'Station_Khepupara', 'Station_Khulna', 'Station_Kutubdia', 'Station_Madaripur', 'Station_Maijdee Court', 'Station_Mongla', 'Station_Mymensingh', 'Station_Patuakhali', 'Station_Rajshahi', 'Station_Rangamati', 'Station_Rangpur', 'Station_Sandwip', 'Station_Satkhira', 'Station_Sitakunda', 'Station_Srimangal', 'Station_Syedpur', 'Station_Sylhet', 'Station_Tangail', 'Station_Teknaf']\n",
    "#0.657\n",
    "#0.707 (ln(Rainfall))\n",
    "#xcollist=['Max Temp', 'Min Temp', 'Relative Humidity', 'Wind Speed', 'Cloud Coverage', 'log(Bright Sunshine)','X_COR', 'Y_COR', 'LATITUDE', 'LONGITUDE', 'ALT','Station_Barisal', 'Station_Bhola', 'Station_Bogra', 'Station_Chandpur', 'Station_Chittagong (City-Ambagan)', 'Station_Chittagong (IAP-Patenga)', 'Station_Chuadanga', 'Station_Comilla', 'Station_Coxs Bazar', 'Station_Dhaka', 'Station_Dinajpur', 'Station_Faridpur', 'Station_Feni', 'Station_Hatiya', 'Station_Ishurdi', 'Station_Jessore', 'Station_Khepupara', 'Station_Khulna', 'Station_Kutubdia', 'Station_Madaripur', 'Station_Maijdee Court', 'Station_Mongla', 'Station_Mymensingh', 'Station_Patuakhali', 'Station_Rajshahi', 'Station_Rangamati', 'Station_Rangpur', 'Station_Sandwip', 'Station_Satkhira', 'Station_Sitakunda', 'Station_Srimangal', 'Station_Syedpur', 'Station_Sylhet', 'Station_Tangail', 'Station_Teknaf']\n",
    "#0.655\n",
    "#0.710 (ln(Rainfall))\n",
    "#xcollist=['Max Temp', 'Min Temp', 'sqr(Min Temp)', 'Relative Humidity', 'Wind Speed', 'Cloud Coverage', 'Bright Sunshine','X_COR', 'Y_COR', 'LATITUDE', 'LONGITUDE', 'ALT','Station_Barisal', 'Station_Bhola', 'Station_Bogra', 'Station_Chandpur', 'Station_Chittagong (City-Ambagan)', 'Station_Chittagong (IAP-Patenga)', 'Station_Chuadanga', 'Station_Comilla', 'Station_Coxs Bazar', 'Station_Dhaka', 'Station_Dinajpur', 'Station_Faridpur', 'Station_Feni', 'Station_Hatiya', 'Station_Ishurdi', 'Station_Jessore', 'Station_Khepupara', 'Station_Khulna', 'Station_Kutubdia', 'Station_Madaripur', 'Station_Maijdee Court', 'Station_Mongla', 'Station_Mymensingh', 'Station_Patuakhali', 'Station_Rajshahi', 'Station_Rangamati', 'Station_Rangpur', 'Station_Sandwip', 'Station_Satkhira', 'Station_Sitakunda', 'Station_Srimangal', 'Station_Syedpur', 'Station_Sylhet', 'Station_Tangail', 'Station_Teknaf']\n",
    "#0.650\n",
    "#0.707 (ln(Rainfall))\n",
    "#xcollist=['Max Temp', 'Min Temp', 'Relative Humidity', 'Wind Speed', 'sqr(Wind Speed)', 'Cloud Coverage', 'Bright Sunshine','X_COR', 'Y_COR', 'LATITUDE', 'LONGITUDE', 'ALT','Station_Barisal', 'Station_Bhola', 'Station_Bogra', 'Station_Chandpur', 'Station_Chittagong (City-Ambagan)', 'Station_Chittagong (IAP-Patenga)', 'Station_Chuadanga', 'Station_Comilla', 'Station_Coxs Bazar', 'Station_Dhaka', 'Station_Dinajpur', 'Station_Faridpur', 'Station_Feni', 'Station_Hatiya', 'Station_Ishurdi', 'Station_Jessore', 'Station_Khepupara', 'Station_Khulna', 'Station_Kutubdia', 'Station_Madaripur', 'Station_Maijdee Court', 'Station_Mongla', 'Station_Mymensingh', 'Station_Patuakhali', 'Station_Rajshahi', 'Station_Rangamati', 'Station_Rangpur', 'Station_Sandwip', 'Station_Satkhira', 'Station_Sitakunda', 'Station_Srimangal', 'Station_Syedpur', 'Station_Sylhet', 'Station_Tangail', 'Station_Teknaf']\n",
    "#0.661\n",
    "#0.719 (ln(Rainfall))\n",
    "#xcollist=['Max Temp', 'Min Temp', 'Relative Humidity', 'Wind Speed', 'Cloud Coverage', 'sqr(Cloud Coverage)', 'Bright Sunshine','X_COR', 'Y_COR', 'LATITUDE', 'LONGITUDE', 'ALT','Station_Barisal', 'Station_Bhola', 'Station_Bogra', 'Station_Chandpur', 'Station_Chittagong (City-Ambagan)', 'Station_Chittagong (IAP-Patenga)', 'Station_Chuadanga', 'Station_Comilla', 'Station_Coxs Bazar', 'Station_Dhaka', 'Station_Dinajpur', 'Station_Faridpur', 'Station_Feni', 'Station_Hatiya', 'Station_Ishurdi', 'Station_Jessore', 'Station_Khepupara', 'Station_Khulna', 'Station_Kutubdia', 'Station_Madaripur', 'Station_Maijdee Court', 'Station_Mongla', 'Station_Mymensingh', 'Station_Patuakhali', 'Station_Rajshahi', 'Station_Rangamati', 'Station_Rangpur', 'Station_Sandwip', 'Station_Satkhira', 'Station_Sitakunda', 'Station_Srimangal', 'Station_Syedpur', 'Station_Sylhet', 'Station_Tangail', 'Station_Teknaf']\n",
    "#0.719 (ln(Rainfall))\n",
    "#No x_cor\n",
    "#xcollist=['Max Temp', 'Min Temp', 'Relative Humidity', 'Wind Speed', 'Cloud Coverage', 'sqr(Cloud Coverage)', 'Bright Sunshine', 'Y_COR', 'LATITUDE', 'LONGITUDE', 'ALT','Station_Barisal', 'Station_Bhola', 'Station_Bogra', 'Station_Chandpur', 'Station_Chittagong (City-Ambagan)', 'Station_Chittagong (IAP-Patenga)', 'Station_Chuadanga', 'Station_Comilla', 'Station_Coxs Bazar', 'Station_Dhaka', 'Station_Dinajpur', 'Station_Faridpur', 'Station_Feni', 'Station_Hatiya', 'Station_Ishurdi', 'Station_Jessore', 'Station_Khepupara', 'Station_Khulna', 'Station_Kutubdia', 'Station_Madaripur', 'Station_Maijdee Court', 'Station_Mongla', 'Station_Mymensingh', 'Station_Patuakhali', 'Station_Rajshahi', 'Station_Rangamati', 'Station_Rangpur', 'Station_Sandwip', 'Station_Satkhira', 'Station_Sitakunda', 'Station_Srimangal', 'Station_Syedpur', 'Station_Sylhet', 'Station_Tangail', 'Station_Teknaf']\n",
    "#0.719 (ln(Rainfall))\n",
    "#No x_cor, latitude, longitude\n",
    "#xcollist=['Max Temp', 'Min Temp', 'Relative Humidity', 'Wind Speed', 'Cloud Coverage', 'sqr(Cloud Coverage)', 'Bright Sunshine', 'Y_COR', 'ALT','Station_Barisal', 'Station_Bhola', 'Station_Bogra', 'Station_Chandpur', 'Station_Chittagong (City-Ambagan)', 'Station_Chittagong (IAP-Patenga)', 'Station_Chuadanga', 'Station_Comilla', 'Station_Coxs Bazar', 'Station_Dhaka', 'Station_Dinajpur', 'Station_Faridpur', 'Station_Feni', 'Station_Hatiya', 'Station_Ishurdi', 'Station_Jessore', 'Station_Khepupara', 'Station_Khulna', 'Station_Kutubdia', 'Station_Madaripur', 'Station_Maijdee Court', 'Station_Mongla', 'Station_Mymensingh', 'Station_Patuakhali', 'Station_Rajshahi', 'Station_Rangamati', 'Station_Rangpur', 'Station_Sandwip', 'Station_Satkhira', 'Station_Sitakunda', 'Station_Srimangal', 'Station_Syedpur', 'Station_Sylhet', 'Station_Tangail', 'Station_Teknaf']\n",
    "\n",
    "#0.716 (ln(Rainfall))\n",
    "#xcollist=['Max Temp', 'Min Temp', 'sqr(Min Temp)', 'Relative Humidity', 'log(Wind Speed)', 'log(Cloud Coverage)', 'sqr(Cloud Coverage)', 'log(Bright Sunshine)','X_COR', 'Y_COR', 'LATITUDE', 'LONGITUDE', 'ALT','Station_Barisal', 'Station_Bhola', 'Station_Bogra', 'Station_Chandpur', 'Station_Chittagong (City-Ambagan)', 'Station_Chittagong (IAP-Patenga)', 'Station_Chuadanga', 'Station_Comilla', 'Station_Coxs Bazar', 'Station_Dhaka', 'Station_Dinajpur', 'Station_Faridpur', 'Station_Feni', 'Station_Hatiya', 'Station_Ishurdi', 'Station_Jessore', 'Station_Khepupara', 'Station_Khulna', 'Station_Kutubdia', 'Station_Madaripur', 'Station_Maijdee Court', 'Station_Mongla', 'Station_Mymensingh', 'Station_Patuakhali', 'Station_Rajshahi', 'Station_Rangamati', 'Station_Rangpur', 'Station_Sandwip', 'Station_Satkhira', 'Station_Sitakunda', 'Station_Srimangal', 'Station_Syedpur', 'Station_Sylhet', 'Station_Tangail', 'Station_Teknaf']\n",
    "#0.716 (ln(Rainfall))\n",
    "#xcollist=['Max Temp', 'Min Temp', 'sqr(Min Temp)', 'ln(Relative Humidity)', 'log(Wind Speed)', 'log(Cloud Coverage)', 'sqr(Cloud Coverage)', 'log(Bright Sunshine)','X_COR', 'Y_COR', 'LATITUDE', 'LONGITUDE', 'ALT','Station_Barisal', 'Station_Bhola', 'Station_Bogra', 'Station_Chandpur', 'Station_Chittagong (City-Ambagan)', 'Station_Chittagong (IAP-Patenga)', 'Station_Chuadanga', 'Station_Comilla', 'Station_Coxs Bazar', 'Station_Dhaka', 'Station_Dinajpur', 'Station_Faridpur', 'Station_Feni', 'Station_Hatiya', 'Station_Ishurdi', 'Station_Jessore', 'Station_Khepupara', 'Station_Khulna', 'Station_Kutubdia', 'Station_Madaripur', 'Station_Maijdee Court', 'Station_Mongla', 'Station_Mymensingh', 'Station_Patuakhali', 'Station_Rajshahi', 'Station_Rangamati', 'Station_Rangpur', 'Station_Sandwip', 'Station_Satkhira', 'Station_Sitakunda', 'Station_Srimangal', 'Station_Syedpur', 'Station_Sylhet', 'Station_Tangail', 'Station_Teknaf']\n"
   ]
  },
  {
   "cell_type": "code",
   "execution_count": 106,
   "metadata": {},
   "outputs": [
    {
     "name": "stdout",
     "output_type": "stream",
     "text": [
      "-2.1089489265770256\n",
      "[ 4.15403496e-02  5.61935929e-02  2.95940002e-02  5.10741227e-03\n",
      "  1.01346378e+00 -7.51751361e-02 -1.04714886e-01 -5.03063093e-07\n",
      "  4.31152809e-03 -2.12544608e-01 -2.13970647e-01 -5.39534766e-02\n",
      " -2.82581639e-02  6.95277169e-14  7.48021251e-02  9.25648447e-15\n",
      "  6.48767360e-02  2.31028489e-01  5.90028334e-02  9.20629499e-02\n",
      "  7.49350718e-02  1.57181056e-01  1.87341296e-01 -1.68487734e-01\n",
      " -2.66331171e-01 -1.21631656e-01 -1.93371041e-01  6.99369769e-02\n",
      " -1.11277676e-01  2.80756215e-01 -2.86513221e-01 -4.79547721e-02\n",
      " -2.70814574e-01 -1.55749080e-01 -2.74305268e-01  1.63478182e-02\n",
      "  3.35759494e-01 -1.51139472e-01  3.40108579e-02  2.76104992e-01\n",
      "  0.00000000e+00  3.68033759e-01 -5.45209711e-02  2.88642860e-01]\n",
      "Score:  0.7199345993215877\n",
      "-2.1089489265770256+(0.04154034957872871 * Max Temp)+(0.056193592882225606 * Min Temp)+(0.029594000197619846 * Relative Humidity)+(0.005107412271967349 * Wind Speed)+(1.0134637793917969 * Cloud Coverage)-(0.075175136141055 * sqr(Cloud Coverage))-(0.10471488607565416 * Bright Sunshine)-(5.030630928734329e-07 * Y_COR)+(0.00431152809346512 * ALT)-(0.2125446081331546 * Station_Barisal)-(0.2139706473243404 * Station_Bhola)-(0.053953476559572985 * Station_Bogra)-(0.02825816394895915 * Station_Chandpur)+(6.952771691715043e-14 * Station_Chittagong (City-Ambagan))+(0.07480212511529023 * Station_Chittagong (IAP-Patenga))+(9.256484467812243e-15 * Station_Chuadanga)+(0.06487673595511904 * Station_Comilla)+(0.23102848928274966 * Station_Coxs Bazar)+(0.05900283337367702 * Station_Dhaka)+(0.09206294988244629 * Station_Dinajpur)+(0.07493507180713568 * Station_Faridpur)+(0.1571810558249458 * Station_Feni)+(0.18734129612651418 * Station_Hatiya)-(0.1684877341887756 * Station_Ishurdi)-(0.26633117073191515 * Station_Jessore)-(0.12163165556667194 * Station_Khepupara)-(0.193371040693971 * Station_Khulna)+(0.06993697691832641 * Station_Kutubdia)-(0.11127767551725169 * Station_Madaripur)+(0.2807562150906757 * Station_Maijdee Court)-(0.28651322069053214 * Station_Mongla)-(0.04795477208427246 * Station_Mymensingh)-(0.27081457416820126 * Station_Patuakhali)-(0.1557490797812715 * Station_Rajshahi)-(0.27430526841872127 * Station_Rangamati)+(0.016347818158074262 * Station_Rangpur)+(0.33575949435596864 * Station_Sandwip)-(0.1511394721597497 * Station_Satkhira)+(0.03401085793615274 * Station_Sitakunda)+(0.27610499152735446 * Station_Srimangal)+(0.36803375914560965 * Station_Sylhet)-(0.05452097105673995 * Station_Tangail)+(0.28864286023481833 * Station_Teknaf)\n"
     ]
    }
   ],
   "source": [
    "#dataset = dataset[dataset['inverse(Wind Speed)'] != \"inf\"]\n",
    "# Replacing infinite with nan \n",
    "dataset.replace([np.inf, -np.inf], np.nan, inplace=True)   \n",
    "# Dropping all the rows with nan values \n",
    "dataset.dropna(inplace=True) \n",
    "X = dataset[xcollist]\n",
    "#y = dataset['Rainfall']\n",
    "y = dataset['ln(Rainfall)']\n",
    "\n",
    "regr = linear_model.LinearRegression()\n",
    "regr.fit(X, y)\n",
    "\n",
    "print(regr.intercept_)\n",
    "print(regr.coef_) \n",
    "print(\"Score: \",regr.score(X, y)) \n",
    "equation =str(regr.intercept_)\n",
    "for i in range(len(xcollist)):\n",
    "    if regr.coef_[i]>0:\n",
    "        equation+=\"+\"\n",
    "        equation+=\"(\"+str(regr.coef_[i])+\" * \"+str(xcollist[i])+\")\"\n",
    "    if regr.coef_[i]<0:\n",
    "        equation+=\"-\"\n",
    "        equation+=\"(\"+str(regr.coef_[i]*-1)+\" * \"+str(xcollist[i])+\")\"\n",
    "print(equation)"
   ]
  },
  {
   "cell_type": "code",
   "execution_count": 100,
   "metadata": {},
   "outputs": [
    {
     "name": "stdout",
     "output_type": "stream",
     "text": [
      "                            OLS Regression Results                            \n",
      "==============================================================================\n",
      "Dep. Variable:               Rainfall   R-squared:                       0.650\n",
      "Model:                            OLS   Adj. R-squared:                  0.650\n",
      "Method:                 Least Squares   F-statistic:                     855.4\n",
      "Date:                Fri, 08 Jan 2021   Prob (F-statistic):               0.00\n",
      "Time:                        06:12:50   Log-Likelihood:            -1.0909e+05\n",
      "No. Observations:               17057   AIC:                         2.183e+05\n",
      "Df Residuals:                   17019   BIC:                         2.185e+05\n",
      "Df Model:                          37                                         \n",
      "Covariance Type:            nonrobust                                         \n",
      "=====================================================================================================\n",
      "                                        coef    std err          t      P>|t|      [0.025      0.975]\n",
      "-----------------------------------------------------------------------------------------------------\n",
      "const                                -0.0856      0.038     -2.224      0.026      -0.161      -0.010\n",
      "Max Temp                             10.3887      0.746     13.921      0.000       8.926      11.851\n",
      "Min Temp                            -10.3036      0.655    -15.723      0.000     -11.588      -9.019\n",
      "Relative Humidity                     3.6847      0.278     13.252      0.000       3.140       4.230\n",
      "Wind Speed                           11.4723      1.382      8.303      0.000       8.764      14.181\n",
      "Cloud Coverage                       62.8336      1.527     41.135      0.000      59.840      65.828\n",
      "Bright Sunshine                     -44.4356      1.235    -35.969      0.000     -46.857     -42.014\n",
      "X_COR                                 0.0004    1.6e-05     28.029      0.000       0.000       0.000\n",
      "Y_COR                             -8.757e-05   1.92e-05     -4.562      0.000      -0.000   -4.99e-05\n",
      "LATITUDE                              0.6981      1.531      0.456      0.648      -2.304       3.700\n",
      "LONGITUDE                            -4.2586      0.554     -7.686      0.000      -5.345      -3.172\n",
      "ALT                                   0.0444      0.113      0.392      0.695      -0.178       0.267\n",
      "Station_Barisal                     -41.8179      5.668     -7.377      0.000     -52.929     -30.707\n",
      "Station_Bhola                       -73.1867      6.777    -10.799      0.000     -86.471     -59.902\n",
      "Station_Bogra                        29.1218      5.409      5.384      0.000      18.520      39.723\n",
      "Station_Chandpur                    -40.7008      6.519     -6.244      0.000     -53.478     -27.924\n",
      "Station_Chittagong (City-Ambagan)  -1.11e-14   3.38e-15     -3.286      0.001   -1.77e-14   -4.48e-15\n",
      "Station_Chittagong (IAP-Patenga)    -18.7672      5.878     -3.193      0.001     -30.288      -7.247\n",
      "Station_Chuadanga                  9.381e-16   3.98e-15      0.236      0.814   -6.86e-15    8.74e-15\n",
      "Station_Comilla                     -39.8152      5.473     -7.275      0.000     -50.542     -29.088\n",
      "Station_Coxs Bazar                   63.2154      5.654     11.181      0.000      52.133      74.298\n",
      "Station_Dhaka                       -11.2165      5.820     -1.927      0.054     -22.624       0.191\n",
      "Station_Dinajpur                     89.1426      5.280     16.883      0.000      78.793      99.492\n",
      "Station_Faridpur                     -3.6267      5.567     -0.652      0.515     -14.538       7.284\n",
      "Station_Feni                         -2.2630      6.883     -0.329      0.742     -15.755      11.229\n",
      "Station_Hatiya                       50.6278      6.540      7.741      0.000      37.808      63.448\n",
      "Station_Ishurdi                     -11.0550      6.074     -1.820      0.069     -22.961       0.851\n",
      "Station_Jessore                     -45.1556      5.547     -8.141      0.000     -56.027     -34.284\n",
      "Station_Khepupara                    -3.3687      6.851     -0.492      0.623     -16.797      10.059\n",
      "Station_Khulna                       -7.3554      5.487     -1.340      0.180     -18.111       3.400\n",
      "Station_Kutubdia                      7.1546      7.226      0.990      0.322      -7.009      21.319\n",
      "Station_Madaripur                   -54.0943      7.490     -7.222      0.000     -68.776     -39.412\n",
      "Station_Maijdee Court                46.8064      5.712      8.194      0.000      35.610      58.003\n",
      "Station_Mongla                       -0.9128      7.988     -0.114      0.909     -16.570      14.745\n",
      "Station_Mymensingh                  -37.1965      5.414     -6.870      0.000     -47.809     -26.584\n",
      "Station_Patuakhali                  -39.8506      6.874     -5.797      0.000     -53.324     -26.377\n",
      "Station_Rajshahi                     36.3810      5.924      6.141      0.000      24.769      47.993\n",
      "Station_Rangamati                   -78.8502      2.776    -28.403      0.000     -84.292     -73.409\n",
      "Station_Rangpur                      57.6693      5.466     10.550      0.000      46.955      68.384\n",
      "Station_Sandwip                      95.5345      6.539     14.610      0.000      82.717     108.352\n",
      "Station_Satkhira                      3.3625      5.429      0.619      0.536      -7.279      14.004\n",
      "Station_Sitakunda                   -32.6206      7.201     -4.530      0.000     -46.735     -18.506\n",
      "Station_Srimangal                   -59.0442      5.516    -10.704      0.000     -69.856     -48.232\n",
      "Station_Syedpur                            0          0        nan        nan           0           0\n",
      "Station_Sylhet                       42.5560      5.191      8.198      0.000      32.381      52.731\n",
      "Station_Tangail                     -33.4293      8.229     -4.062      0.000     -49.559     -17.300\n",
      "Station_Teknaf                      112.6694      6.982     16.137      0.000      98.984     126.355\n",
      "==============================================================================\n",
      "Omnibus:                     4945.618   Durbin-Watson:                   1.441\n",
      "Prob(Omnibus):                  0.000   Jarque-Bera (JB):            27116.253\n",
      "Skew:                           1.287   Prob(JB):                         0.00\n",
      "Kurtosis:                       8.615   Cond. No.                     8.11e+19\n",
      "==============================================================================\n",
      "\n",
      "Warnings:\n",
      "[1] Standard Errors assume that the covariance matrix of the errors is correctly specified.\n",
      "[2] The smallest eigenvalue is 1.68e-24. This might indicate that there are\n",
      "strong multicollinearity problems or that the design matrix is singular.\n"
     ]
    },
    {
     "name": "stderr",
     "output_type": "stream",
     "text": [
      "G:\\anaconda\\lib\\site-packages\\statsmodels\\base\\model.py:1362: RuntimeWarning: invalid value encountered in true_divide\n",
      "  return self.params / self.bse\n",
      "G:\\anaconda\\lib\\site-packages\\scipy\\stats\\_distn_infrastructure.py:903: RuntimeWarning: invalid value encountered in greater\n",
      "  return (a < x) & (x < b)\n",
      "G:\\anaconda\\lib\\site-packages\\scipy\\stats\\_distn_infrastructure.py:903: RuntimeWarning: invalid value encountered in less\n",
      "  return (a < x) & (x < b)\n",
      "G:\\anaconda\\lib\\site-packages\\scipy\\stats\\_distn_infrastructure.py:1912: RuntimeWarning: invalid value encountered in less_equal\n",
      "  cond2 = cond0 & (x <= _a)\n"
     ]
    }
   ],
   "source": [
    "# with statsmodels\n",
    "X = sm.add_constant(X) # adding a constant\n",
    " \n",
    "model = sm.OLS(y, X).fit()\n",
    "predictions = model.predict(X) \n",
    " \n",
    "print_model = model.summary()\n",
    "print(print_model)"
   ]
  },
  {
   "cell_type": "code",
   "execution_count": 10,
   "metadata": {},
   "outputs": [],
   "source": []
  },
  {
   "cell_type": "code",
   "execution_count": null,
   "metadata": {},
   "outputs": [],
   "source": []
  }
 ],
 "metadata": {
  "kernelspec": {
   "display_name": "Python 3",
   "language": "python",
   "name": "python3"
  },
  "language_info": {
   "codemirror_mode": {
    "name": "ipython",
    "version": 3
   },
   "file_extension": ".py",
   "mimetype": "text/x-python",
   "name": "python",
   "nbconvert_exporter": "python",
   "pygments_lexer": "ipython3",
   "version": "3.7.6"
  }
 },
 "nbformat": 4,
 "nbformat_minor": 4
}
