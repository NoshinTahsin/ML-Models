{
 "cells": [
  {
   "cell_type": "code",
   "execution_count": 14,
   "metadata": {},
   "outputs": [
    {
     "name": "stdout",
     "output_type": "stream",
     "text": [
      "(21120, 110)\n"
     ]
    },
    {
     "name": "stderr",
     "output_type": "stream",
     "text": [
      "G:\\anaconda\\lib\\site-packages\\IPython\\core\\interactiveshell.py:3063: DtypeWarning: Columns (44,45,49,50,64,65) have mixed types.Specify dtype option on import or set low_memory=False.\n",
      "  interactivity=interactivity, compiler=compiler, result=result)\n"
     ]
    }
   ],
   "source": [
    "import pandas as pd\n",
    "import numpy as np\n",
    "from sklearn import linear_model\n",
    "import statsmodels.api as sm\n",
    "dataset = pd.read_csv(\"C:/Users/noshi/Desktop/poralekha/Sem8/MachineLearning/FinalCalculatedData.csv\")\n",
    "print(dataset.shape)"
   ]
  },
  {
   "cell_type": "code",
   "execution_count": 15,
   "metadata": {},
   "outputs": [
    {
     "name": "stdout",
     "output_type": "stream",
     "text": [
      "['Station Names', 'Max Temp', 'Min Temp', 'Relative Humidity', 'Wind Speed', 'Cloud Coverage', 'Bright Sunshine', 'Station Number', 'X_COR', 'Y_COR', 'LATITUDE', 'LONGITUDE', 'ALT', 'Period', 'ln(Max Temp)', 'log(Max Temp)', 'sqr(Max Temp)', 'cube(Max Temp)', 'inverse(Max Temp)', 'ln(Min Temp)', 'log(Min Temp)', 'sqr(Min Temp)', 'cube(Min Temp)', 'inverse(Min Temp)', 'ln(Relative Humidity)', 'log(Relative Humidity)', 'sqr(Relative Humidity)', 'cube(Relative Humidity)', 'inverse(Relative Humidity)', 'ln(Wind Speed)', 'log(Wind Speed)', 'sqr(Wind Speed)', 'cube(Wind Speed)', 'inverse(Wind Speed)', 'ln(Cloud Coverage)', 'log(Cloud Coverage)', 'sqr(Cloud Coverage)', 'cube(Cloud Coverage)', 'inverse(Cloud Coverage)', 'ln(Bright Sunshine)', 'log(Bright Sunshine)', 'sqr(Bright Sunshine)', 'cube(Bright Sunshine)', 'inverse(Bright Sunshine)', 'ln(X_COR)', 'log(X_COR)', 'sqr(X_COR)', 'cube(X_COR)', 'inverse(X_COR)', 'ln(Y_COR)', 'log(Y_COR)', 'sqr(Y_COR)', 'cube(Y_COR)', 'inverse(Y_COR)', 'ln(LATITUDE)', 'log(LATITUDE)', 'sqr(LATITUDE)', 'cube(LATITUDE)', 'inverse(LATITUDE)', 'ln(LONGITUDE)', 'log(LONGITUDE)', 'sqr(LONGITUDE)', 'cube(LONGITUDE)', 'inverse(LONGITUDE)', 'ln(ALT)', 'log(ALT)', 'sqr(ALT)', 'cube(ALT)', 'inverse(ALT)', 'ln(Rainfall)', 'log(Rainfall)', 'sqr(Rainfall)', 'cube(Rainfall)', 'inverse(Rainfall)', 'Station_Barisal', 'Station_Bhola', 'Station_Bogra', 'Station_Chandpur', 'Station_Chittagong (City-Ambagan)', 'Station_Chittagong (IAP-Patenga)', 'Station_Chuadanga', 'Station_Comilla', 'Station_Coxs Bazar', 'Station_Dhaka', 'Station_Dinajpur', 'Station_Faridpur', 'Station_Feni', 'Station_Hatiya', 'Station_Ishurdi', 'Station_Jessore', 'Station_Khepupara', 'Station_Khulna', 'Station_Kutubdia', 'Station_Madaripur', 'Station_Maijdee Court', 'Station_Mongla', 'Station_Mymensingh', 'Station_Patuakhali', 'Station_Rajshahi', 'Station_Rangamati', 'Station_Rangpur', 'Station_Sandwip', 'Station_Satkhira', 'Station_Sitakunda', 'Station_Srimangal', 'Station_Syedpur', 'Station_Sylhet', 'Station_Tangail', 'Station_Teknaf', 'Rainfall']\n"
     ]
    }
   ],
   "source": [
    "columns = dataset.columns.to_list()\n",
    "print(columns)"
   ]
  },
  {
   "cell_type": "code",
   "execution_count": 22,
   "metadata": {},
   "outputs": [
    {
     "data": {
      "text/plain": [
       "<bound method Series.unique of 0        2.204082\n",
       "1        2.204082\n",
       "2        2.204082\n",
       "3        2.204082\n",
       "4        2.204082\n",
       "           ...   \n",
       "21115    0.357143\n",
       "21116    0.416667\n",
       "21117         inf\n",
       "21118    0.555556\n",
       "21119    0.333333\n",
       "Name: inverse(Wind Speed), Length: 21120, dtype: float64>"
      ]
     },
     "execution_count": 22,
     "metadata": {},
     "output_type": "execute_result"
    }
   ],
   "source": [
    "dataset['inverse(Wind Speed)'].unique"
   ]
  },
  {
   "cell_type": "code",
   "execution_count": 117,
   "metadata": {},
   "outputs": [],
   "source": [
    "#R-squared: 0.673\n",
    "xcollist=['Max Temp', 'Min Temp', 'Relative Humidity', 'Wind Speed', 'Cloud Coverage', 'Bright Sunshine','X_COR', 'Y_COR', 'LATITUDE', 'LONGITUDE', 'ALT','Station_Barisal', 'Station_Bhola', 'Station_Bogra', 'Station_Chandpur', 'Station_Chittagong (City-Ambagan)', 'Station_Chittagong (IAP-Patenga)', 'Station_Chuadanga', 'Station_Comilla', 'Station_Coxs Bazar', 'Station_Dhaka', 'Station_Dinajpur', 'Station_Faridpur', 'Station_Feni', 'Station_Hatiya', 'Station_Ishurdi', 'Station_Jessore', 'Station_Khepupara', 'Station_Khulna', 'Station_Kutubdia', 'Station_Madaripur', 'Station_Maijdee Court', 'Station_Mongla', 'Station_Mymensingh', 'Station_Patuakhali', 'Station_Rajshahi', 'Station_Rangamati', 'Station_Rangpur', 'Station_Sandwip', 'Station_Satkhira', 'Station_Sitakunda', 'Station_Srimangal', 'Station_Syedpur', 'Station_Sylhet', 'Station_Tangail', 'Station_Teknaf']\n",
    "#R-squared: 0.672\n",
    "#0.708 (ln(Rainfall))\n",
    "#xcollist=['Max Temp', 'ln(Min Temp)', 'Relative Humidity', 'Wind Speed', 'Cloud Coverage', 'Bright Sunshine','X_COR', 'Y_COR', 'LATITUDE', 'LONGITUDE', 'ALT','Station_Barisal', 'Station_Bhola', 'Station_Bogra', 'Station_Chandpur', 'Station_Chittagong (City-Ambagan)', 'Station_Chittagong (IAP-Patenga)', 'Station_Chuadanga', 'Station_Comilla', 'Station_Coxs Bazar', 'Station_Dhaka', 'Station_Dinajpur', 'Station_Faridpur', 'Station_Feni', 'Station_Hatiya', 'Station_Ishurdi', 'Station_Jessore', 'Station_Khepupara', 'Station_Khulna', 'Station_Kutubdia', 'Station_Madaripur', 'Station_Maijdee Court', 'Station_Mongla', 'Station_Mymensingh', 'Station_Patuakhali', 'Station_Rajshahi', 'Station_Rangamati', 'Station_Rangpur', 'Station_Sandwip', 'Station_Satkhira', 'Station_Sitakunda', 'Station_Srimangal', 'Station_Syedpur', 'Station_Sylhet', 'Station_Tangail', 'Station_Teknaf']\n",
    "#R-squared: 0.671\n",
    "#0.707 (ln(Rainfall))\n",
    "#xcollist=['Max Temp', 'Min Temp', 'ln(Relative Humidity)', 'Wind Speed', 'Cloud Coverage', 'Bright Sunshine','X_COR', 'Y_COR', 'LATITUDE', 'LONGITUDE', 'ALT','Station_Barisal', 'Station_Bhola', 'Station_Bogra', 'Station_Chandpur', 'Station_Chittagong (City-Ambagan)', 'Station_Chittagong (IAP-Patenga)', 'Station_Chuadanga', 'Station_Comilla', 'Station_Coxs Bazar', 'Station_Dhaka', 'Station_Dinajpur', 'Station_Faridpur', 'Station_Feni', 'Station_Hatiya', 'Station_Ishurdi', 'Station_Jessore', 'Station_Khepupara', 'Station_Khulna', 'Station_Kutubdia', 'Station_Madaripur', 'Station_Maijdee Court', 'Station_Mongla', 'Station_Mymensingh', 'Station_Patuakhali', 'Station_Rajshahi', 'Station_Rangamati', 'Station_Rangpur', 'Station_Sandwip', 'Station_Satkhira', 'Station_Sitakunda', 'Station_Srimangal', 'Station_Syedpur', 'Station_Sylhet', 'Station_Tangail', 'Station_Teknaf']\n",
    "#R-squared: 0.649\n",
    "#0.707 (ln(Rainfall))\n",
    "#xcollist=['Max Temp', 'Min Temp', 'Relative Humidity', 'inverse(Wind Speed)', 'Cloud Coverage', 'Bright Sunshine','X_COR', 'Y_COR', 'LATITUDE', 'LONGITUDE', 'ALT','Station_Barisal', 'Station_Bhola', 'Station_Bogra', 'Station_Chandpur', 'Station_Chittagong (City-Ambagan)', 'Station_Chittagong (IAP-Patenga)', 'Station_Chuadanga', 'Station_Comilla', 'Station_Coxs Bazar', 'Station_Dhaka', 'Station_Dinajpur', 'Station_Faridpur', 'Station_Feni', 'Station_Hatiya', 'Station_Ishurdi', 'Station_Jessore', 'Station_Khepupara', 'Station_Khulna', 'Station_Kutubdia', 'Station_Madaripur', 'Station_Maijdee Court', 'Station_Mongla', 'Station_Mymensingh', 'Station_Patuakhali', 'Station_Rajshahi', 'Station_Rangamati', 'Station_Rangpur', 'Station_Sandwip', 'Station_Satkhira', 'Station_Sitakunda', 'Station_Srimangal', 'Station_Syedpur', 'Station_Sylhet', 'Station_Tangail', 'Station_Teknaf']\n",
    "#0.649\n",
    "#0.707 (ln(Rainfall))\n",
    "#xcollist=['Max Temp', 'Min Temp', 'Relative Humidity', 'ln(Wind Speed)', 'Cloud Coverage', 'Bright Sunshine','X_COR', 'Y_COR', 'LATITUDE', 'LONGITUDE', 'ALT','Station_Barisal', 'Station_Bhola', 'Station_Bogra', 'Station_Chandpur', 'Station_Chittagong (City-Ambagan)', 'Station_Chittagong (IAP-Patenga)', 'Station_Chuadanga', 'Station_Comilla', 'Station_Coxs Bazar', 'Station_Dhaka', 'Station_Dinajpur', 'Station_Faridpur', 'Station_Feni', 'Station_Hatiya', 'Station_Ishurdi', 'Station_Jessore', 'Station_Khepupara', 'Station_Khulna', 'Station_Kutubdia', 'Station_Madaripur', 'Station_Maijdee Court', 'Station_Mongla', 'Station_Mymensingh', 'Station_Patuakhali', 'Station_Rajshahi', 'Station_Rangamati', 'Station_Rangpur', 'Station_Sandwip', 'Station_Satkhira', 'Station_Sitakunda', 'Station_Srimangal', 'Station_Syedpur', 'Station_Sylhet', 'Station_Tangail', 'Station_Teknaf']\n",
    "#0.626\n",
    "#0.715 (ln(Rainfall))\n",
    "#xcollist=['Max Temp', 'Min Temp', 'Relative Humidity', 'Wind Speed', 'ln(Cloud Coverage)', 'Bright Sunshine','X_COR', 'Y_COR', 'LATITUDE', 'LONGITUDE', 'ALT','Station_Barisal', 'Station_Bhola', 'Station_Bogra', 'Station_Chandpur', 'Station_Chittagong (City-Ambagan)', 'Station_Chittagong (IAP-Patenga)', 'Station_Chuadanga', 'Station_Comilla', 'Station_Coxs Bazar', 'Station_Dhaka', 'Station_Dinajpur', 'Station_Faridpur', 'Station_Feni', 'Station_Hatiya', 'Station_Ishurdi', 'Station_Jessore', 'Station_Khepupara', 'Station_Khulna', 'Station_Kutubdia', 'Station_Madaripur', 'Station_Maijdee Court', 'Station_Mongla', 'Station_Mymensingh', 'Station_Patuakhali', 'Station_Rajshahi', 'Station_Rangamati', 'Station_Rangpur', 'Station_Sandwip', 'Station_Satkhira', 'Station_Sitakunda', 'Station_Srimangal', 'Station_Syedpur', 'Station_Sylhet', 'Station_Tangail', 'Station_Teknaf']\n",
    "#0.616\n",
    "#0.688 (ln(Rainfall))\n",
    "#xcollist=['Max Temp', 'Min Temp', 'Relative Humidity', 'Wind Speed', 'inverse(Cloud Coverage)', 'Bright Sunshine','X_COR', 'Y_COR', 'LATITUDE', 'LONGITUDE', 'ALT','Station_Barisal', 'Station_Bhola', 'Station_Bogra', 'Station_Chandpur', 'Station_Chittagong (City-Ambagan)', 'Station_Chittagong (IAP-Patenga)', 'Station_Chuadanga', 'Station_Comilla', 'Station_Coxs Bazar', 'Station_Dhaka', 'Station_Dinajpur', 'Station_Faridpur', 'Station_Feni', 'Station_Hatiya', 'Station_Ishurdi', 'Station_Jessore', 'Station_Khepupara', 'Station_Khulna', 'Station_Kutubdia', 'Station_Madaripur', 'Station_Maijdee Court', 'Station_Mongla', 'Station_Mymensingh', 'Station_Patuakhali', 'Station_Rajshahi', 'Station_Rangamati', 'Station_Rangpur', 'Station_Sandwip', 'Station_Satkhira', 'Station_Sitakunda', 'Station_Srimangal', 'Station_Syedpur', 'Station_Sylhet', 'Station_Tangail', 'Station_Teknaf']\n",
    "#0.648\n",
    "#0.688 (ln(Rainfall))\n",
    "#xcollist=['Max Temp', 'Min Temp', 'log(Relative Humidity)', 'Wind Speed', 'Cloud Coverage', 'Bright Sunshine','X_COR', 'Y_COR', 'LATITUDE', 'LONGITUDE', 'ALT','Station_Barisal', 'Station_Bhola', 'Station_Bogra', 'Station_Chandpur', 'Station_Chittagong (City-Ambagan)', 'Station_Chittagong (IAP-Patenga)', 'Station_Chuadanga', 'Station_Comilla', 'Station_Coxs Bazar', 'Station_Dhaka', 'Station_Dinajpur', 'Station_Faridpur', 'Station_Feni', 'Station_Hatiya', 'Station_Ishurdi', 'Station_Jessore', 'Station_Khepupara', 'Station_Khulna', 'Station_Kutubdia', 'Station_Madaripur', 'Station_Maijdee Court', 'Station_Mongla', 'Station_Mymensingh', 'Station_Patuakhali', 'Station_Rajshahi', 'Station_Rangamati', 'Station_Rangpur', 'Station_Sandwip', 'Station_Satkhira', 'Station_Sitakunda', 'Station_Srimangal', 'Station_Syedpur', 'Station_Sylhet', 'Station_Tangail', 'Station_Teknaf']\n",
    "#0.648\n",
    "#0.708 (ln(Rainfall))\n",
    "#xcollist=['Max Temp', 'log(Min Temp)', 'Relative Humidity', 'Wind Speed', 'Cloud Coverage', 'Bright Sunshine','X_COR', 'Y_COR', 'LATITUDE', 'LONGITUDE', 'ALT','Station_Barisal', 'Station_Bhola', 'Station_Bogra', 'Station_Chandpur', 'Station_Chittagong (City-Ambagan)', 'Station_Chittagong (IAP-Patenga)', 'Station_Chuadanga', 'Station_Comilla', 'Station_Coxs Bazar', 'Station_Dhaka', 'Station_Dinajpur', 'Station_Faridpur', 'Station_Feni', 'Station_Hatiya', 'Station_Ishurdi', 'Station_Jessore', 'Station_Khepupara', 'Station_Khulna', 'Station_Kutubdia', 'Station_Madaripur', 'Station_Maijdee Court', 'Station_Mongla', 'Station_Mymensingh', 'Station_Patuakhali', 'Station_Rajshahi', 'Station_Rangamati', 'Station_Rangpur', 'Station_Sandwip', 'Station_Satkhira', 'Station_Sitakunda', 'Station_Srimangal', 'Station_Syedpur', 'Station_Sylhet', 'Station_Tangail', 'Station_Teknaf']\n",
    "#0.649\n",
    "#0.707 (ln(Rainfall))\n",
    "#xcollist=['Max Temp', 'Min Temp', 'Relative Humidity', 'log(Wind Speed)', 'Cloud Coverage', 'Bright Sunshine','X_COR', 'Y_COR', 'LATITUDE', 'LONGITUDE', 'ALT','Station_Barisal', 'Station_Bhola', 'Station_Bogra', 'Station_Chandpur', 'Station_Chittagong (City-Ambagan)', 'Station_Chittagong (IAP-Patenga)', 'Station_Chuadanga', 'Station_Comilla', 'Station_Coxs Bazar', 'Station_Dhaka', 'Station_Dinajpur', 'Station_Faridpur', 'Station_Feni', 'Station_Hatiya', 'Station_Ishurdi', 'Station_Jessore', 'Station_Khepupara', 'Station_Khulna', 'Station_Kutubdia', 'Station_Madaripur', 'Station_Maijdee Court', 'Station_Mongla', 'Station_Mymensingh', 'Station_Patuakhali', 'Station_Rajshahi', 'Station_Rangamati', 'Station_Rangpur', 'Station_Sandwip', 'Station_Satkhira', 'Station_Sitakunda', 'Station_Srimangal', 'Station_Syedpur', 'Station_Sylhet', 'Station_Tangail', 'Station_Teknaf']\n",
    "#0.626\n",
    "#0.715 (ln(Rainfall))\n",
    "#xcollist=['Max Temp', 'Min Temp', 'Relative Humidity', 'Wind Speed', 'log(Cloud Coverage)', 'Bright Sunshine','X_COR', 'Y_COR', 'LATITUDE', 'LONGITUDE', 'ALT','Station_Barisal', 'Station_Bhola', 'Station_Bogra', 'Station_Chandpur', 'Station_Chittagong (City-Ambagan)', 'Station_Chittagong (IAP-Patenga)', 'Station_Chuadanga', 'Station_Comilla', 'Station_Coxs Bazar', 'Station_Dhaka', 'Station_Dinajpur', 'Station_Faridpur', 'Station_Feni', 'Station_Hatiya', 'Station_Ishurdi', 'Station_Jessore', 'Station_Khepupara', 'Station_Khulna', 'Station_Kutubdia', 'Station_Madaripur', 'Station_Maijdee Court', 'Station_Mongla', 'Station_Mymensingh', 'Station_Patuakhali', 'Station_Rajshahi', 'Station_Rangamati', 'Station_Rangpur', 'Station_Sandwip', 'Station_Satkhira', 'Station_Sitakunda', 'Station_Srimangal', 'Station_Syedpur', 'Station_Sylhet', 'Station_Tangail', 'Station_Teknaf']\n",
    "#0.657\n",
    "#0.707 (ln(Rainfall))\n",
    "#xcollist=['Max Temp', 'Min Temp', 'Relative Humidity', 'Wind Speed', 'Cloud Coverage', 'log(Bright Sunshine)','X_COR', 'Y_COR', 'LATITUDE', 'LONGITUDE', 'ALT','Station_Barisal', 'Station_Bhola', 'Station_Bogra', 'Station_Chandpur', 'Station_Chittagong (City-Ambagan)', 'Station_Chittagong (IAP-Patenga)', 'Station_Chuadanga', 'Station_Comilla', 'Station_Coxs Bazar', 'Station_Dhaka', 'Station_Dinajpur', 'Station_Faridpur', 'Station_Feni', 'Station_Hatiya', 'Station_Ishurdi', 'Station_Jessore', 'Station_Khepupara', 'Station_Khulna', 'Station_Kutubdia', 'Station_Madaripur', 'Station_Maijdee Court', 'Station_Mongla', 'Station_Mymensingh', 'Station_Patuakhali', 'Station_Rajshahi', 'Station_Rangamati', 'Station_Rangpur', 'Station_Sandwip', 'Station_Satkhira', 'Station_Sitakunda', 'Station_Srimangal', 'Station_Syedpur', 'Station_Sylhet', 'Station_Tangail', 'Station_Teknaf']\n",
    "#0.655\n",
    "#0.710 (ln(Rainfall))\n",
    "#xcollist=['Max Temp', 'Min Temp', 'sqr(Min Temp)', 'Relative Humidity', 'Wind Speed', 'Cloud Coverage', 'Bright Sunshine','X_COR', 'Y_COR', 'LATITUDE', 'LONGITUDE', 'ALT','Station_Barisal', 'Station_Bhola', 'Station_Bogra', 'Station_Chandpur', 'Station_Chittagong (City-Ambagan)', 'Station_Chittagong (IAP-Patenga)', 'Station_Chuadanga', 'Station_Comilla', 'Station_Coxs Bazar', 'Station_Dhaka', 'Station_Dinajpur', 'Station_Faridpur', 'Station_Feni', 'Station_Hatiya', 'Station_Ishurdi', 'Station_Jessore', 'Station_Khepupara', 'Station_Khulna', 'Station_Kutubdia', 'Station_Madaripur', 'Station_Maijdee Court', 'Station_Mongla', 'Station_Mymensingh', 'Station_Patuakhali', 'Station_Rajshahi', 'Station_Rangamati', 'Station_Rangpur', 'Station_Sandwip', 'Station_Satkhira', 'Station_Sitakunda', 'Station_Srimangal', 'Station_Syedpur', 'Station_Sylhet', 'Station_Tangail', 'Station_Teknaf']\n",
    "#0.650\n",
    "#0.707 (ln(Rainfall))\n",
    "#xcollist=['Max Temp', 'Min Temp', 'Relative Humidity', 'Wind Speed', 'sqr(Wind Speed)', 'Cloud Coverage', 'Bright Sunshine','X_COR', 'Y_COR', 'LATITUDE', 'LONGITUDE', 'ALT','Station_Barisal', 'Station_Bhola', 'Station_Bogra', 'Station_Chandpur', 'Station_Chittagong (City-Ambagan)', 'Station_Chittagong (IAP-Patenga)', 'Station_Chuadanga', 'Station_Comilla', 'Station_Coxs Bazar', 'Station_Dhaka', 'Station_Dinajpur', 'Station_Faridpur', 'Station_Feni', 'Station_Hatiya', 'Station_Ishurdi', 'Station_Jessore', 'Station_Khepupara', 'Station_Khulna', 'Station_Kutubdia', 'Station_Madaripur', 'Station_Maijdee Court', 'Station_Mongla', 'Station_Mymensingh', 'Station_Patuakhali', 'Station_Rajshahi', 'Station_Rangamati', 'Station_Rangpur', 'Station_Sandwip', 'Station_Satkhira', 'Station_Sitakunda', 'Station_Srimangal', 'Station_Syedpur', 'Station_Sylhet', 'Station_Tangail', 'Station_Teknaf']\n",
    "#0.661\n",
    "#0.719 (ln(Rainfall))\n",
    "#xcollist=['Max Temp', 'Min Temp', 'Relative Humidity', 'Wind Speed', 'Cloud Coverage', 'sqr(Cloud Coverage)', 'Bright Sunshine','X_COR', 'Y_COR', 'LATITUDE', 'LONGITUDE', 'ALT','Station_Barisal', 'Station_Bhola', 'Station_Bogra', 'Station_Chandpur', 'Station_Chittagong (City-Ambagan)', 'Station_Chittagong (IAP-Patenga)', 'Station_Chuadanga', 'Station_Comilla', 'Station_Coxs Bazar', 'Station_Dhaka', 'Station_Dinajpur', 'Station_Faridpur', 'Station_Feni', 'Station_Hatiya', 'Station_Ishurdi', 'Station_Jessore', 'Station_Khepupara', 'Station_Khulna', 'Station_Kutubdia', 'Station_Madaripur', 'Station_Maijdee Court', 'Station_Mongla', 'Station_Mymensingh', 'Station_Patuakhali', 'Station_Rajshahi', 'Station_Rangamati', 'Station_Rangpur', 'Station_Sandwip', 'Station_Satkhira', 'Station_Sitakunda', 'Station_Srimangal', 'Station_Syedpur', 'Station_Sylhet', 'Station_Tangail', 'Station_Teknaf']\n",
    "#0.719 (ln(Rainfall))\n",
    "#No x_cor\n",
    "#xcollist=['Max Temp', 'Min Temp', 'Relative Humidity', 'Wind Speed', 'Cloud Coverage', 'sqr(Cloud Coverage)', 'Bright Sunshine', 'Y_COR', 'LATITUDE', 'LONGITUDE', 'ALT','Station_Barisal', 'Station_Bhola', 'Station_Bogra', 'Station_Chandpur', 'Station_Chittagong (City-Ambagan)', 'Station_Chittagong (IAP-Patenga)', 'Station_Chuadanga', 'Station_Comilla', 'Station_Coxs Bazar', 'Station_Dhaka', 'Station_Dinajpur', 'Station_Faridpur', 'Station_Feni', 'Station_Hatiya', 'Station_Ishurdi', 'Station_Jessore', 'Station_Khepupara', 'Station_Khulna', 'Station_Kutubdia', 'Station_Madaripur', 'Station_Maijdee Court', 'Station_Mongla', 'Station_Mymensingh', 'Station_Patuakhali', 'Station_Rajshahi', 'Station_Rangamati', 'Station_Rangpur', 'Station_Sandwip', 'Station_Satkhira', 'Station_Sitakunda', 'Station_Srimangal', 'Station_Syedpur', 'Station_Sylhet', 'Station_Tangail', 'Station_Teknaf']\n",
    "#0.719 (ln(Rainfall))\n",
    "#No x_cor, latitude, longitude\n",
    "#xcollist=['Max Temp', 'Min Temp', 'Relative Humidity', 'Wind Speed', 'Cloud Coverage', 'sqr(Cloud Coverage)', 'Bright Sunshine', 'Y_COR', 'ALT','Station_Barisal', 'Station_Bhola', 'Station_Bogra', 'Station_Chandpur', 'Station_Chittagong (City-Ambagan)', 'Station_Chittagong (IAP-Patenga)', 'Station_Chuadanga', 'Station_Comilla', 'Station_Coxs Bazar', 'Station_Dhaka', 'Station_Dinajpur', 'Station_Faridpur', 'Station_Feni', 'Station_Hatiya', 'Station_Ishurdi', 'Station_Jessore', 'Station_Khepupara', 'Station_Khulna', 'Station_Kutubdia', 'Station_Madaripur', 'Station_Maijdee Court', 'Station_Mongla', 'Station_Mymensingh', 'Station_Patuakhali', 'Station_Rajshahi', 'Station_Rangamati', 'Station_Rangpur', 'Station_Sandwip', 'Station_Satkhira', 'Station_Sitakunda', 'Station_Srimangal', 'Station_Syedpur', 'Station_Sylhet', 'Station_Tangail', 'Station_Teknaf']\n",
    "\n",
    "#0.716 (ln(Rainfall))\n",
    "#xcollist=['Max Temp', 'Min Temp', 'sqr(Min Temp)', 'Relative Humidity', 'log(Wind Speed)', 'log(Cloud Coverage)', 'sqr(Cloud Coverage)', 'log(Bright Sunshine)','X_COR', 'Y_COR', 'LATITUDE', 'LONGITUDE', 'ALT','Station_Barisal', 'Station_Bhola', 'Station_Bogra', 'Station_Chandpur', 'Station_Chittagong (City-Ambagan)', 'Station_Chittagong (IAP-Patenga)', 'Station_Chuadanga', 'Station_Comilla', 'Station_Coxs Bazar', 'Station_Dhaka', 'Station_Dinajpur', 'Station_Faridpur', 'Station_Feni', 'Station_Hatiya', 'Station_Ishurdi', 'Station_Jessore', 'Station_Khepupara', 'Station_Khulna', 'Station_Kutubdia', 'Station_Madaripur', 'Station_Maijdee Court', 'Station_Mongla', 'Station_Mymensingh', 'Station_Patuakhali', 'Station_Rajshahi', 'Station_Rangamati', 'Station_Rangpur', 'Station_Sandwip', 'Station_Satkhira', 'Station_Sitakunda', 'Station_Srimangal', 'Station_Syedpur', 'Station_Sylhet', 'Station_Tangail', 'Station_Teknaf']\n",
    "#0.716 (ln(Rainfall))\n",
    "#xcollist=['Max Temp', 'Min Temp', 'sqr(Min Temp)', 'ln(Relative Humidity)', 'log(Wind Speed)', 'log(Cloud Coverage)', 'sqr(Cloud Coverage)', 'log(Bright Sunshine)','X_COR', 'Y_COR', 'LATITUDE', 'LONGITUDE', 'ALT','Station_Barisal', 'Station_Bhola', 'Station_Bogra', 'Station_Chandpur', 'Station_Chittagong (City-Ambagan)', 'Station_Chittagong (IAP-Patenga)', 'Station_Chuadanga', 'Station_Comilla', 'Station_Coxs Bazar', 'Station_Dhaka', 'Station_Dinajpur', 'Station_Faridpur', 'Station_Feni', 'Station_Hatiya', 'Station_Ishurdi', 'Station_Jessore', 'Station_Khepupara', 'Station_Khulna', 'Station_Kutubdia', 'Station_Madaripur', 'Station_Maijdee Court', 'Station_Mongla', 'Station_Mymensingh', 'Station_Patuakhali', 'Station_Rajshahi', 'Station_Rangamati', 'Station_Rangpur', 'Station_Sandwip', 'Station_Satkhira', 'Station_Sitakunda', 'Station_Srimangal', 'Station_Syedpur', 'Station_Sylhet', 'Station_Tangail', 'Station_Teknaf']\n",
    "\n",
    "#0.678\n",
    "#0.717 (ln(Rainfall))\n",
    "#xcollist=['Max Temp', 'Min Temp', 'sqr(Min Temp)','Relative Humidity', 'sqr(Relative Humidity)', 'log(Wind Speed)', 'log(Cloud Coverage)', 'sqr(Cloud Coverage)', 'log(Bright Sunshine)','X_COR', 'Y_COR', 'LATITUDE', 'LONGITUDE', 'ALT','Station_Barisal', 'Station_Bhola', 'Station_Bogra', 'Station_Chandpur', 'Station_Chittagong (City-Ambagan)', 'Station_Chittagong (IAP-Patenga)', 'Station_Chuadanga', 'Station_Comilla', 'Station_Coxs Bazar', 'Station_Dhaka', 'Station_Dinajpur', 'Station_Faridpur', 'Station_Feni', 'Station_Hatiya', 'Station_Ishurdi', 'Station_Jessore', 'Station_Khepupara', 'Station_Khulna', 'Station_Kutubdia', 'Station_Madaripur', 'Station_Maijdee Court', 'Station_Mongla', 'Station_Mymensingh', 'Station_Patuakhali', 'Station_Rajshahi', 'Station_Rangamati', 'Station_Rangpur', 'Station_Sandwip', 'Station_Satkhira', 'Station_Sitakunda', 'Station_Srimangal', 'Station_Syedpur', 'Station_Sylhet', 'Station_Tangail', 'Station_Teknaf']\n"
   ]
  },
  {
   "cell_type": "code",
   "execution_count": 118,
   "metadata": {},
   "outputs": [
    {
     "name": "stdout",
     "output_type": "stream",
     "text": [
      "3266678817.8410077\n",
      "[ 1.03886623e+01 -1.03035965e+01  3.68470855e+00  1.14722528e+01\n",
      "  6.28335547e+01 -4.44355953e+01  5.41638537e+02 -6.83542428e+02\n",
      "  7.74819606e+07 -5.49602588e+07 -1.74815115e+05 -6.57698647e+05\n",
      " -6.10392432e+05 -1.99390434e+06 -1.44216226e+06  6.13175384e+01\n",
      " -3.32726735e+05 -1.05630906e+00 -9.30143595e+05  4.14600382e+05\n",
      " -2.18914039e+06 -8.57842052e+05 -1.45916652e+06 -7.25495315e+05\n",
      " -2.10786007e+05 -1.07470131e+06 -1.88469256e+05  1.53457518e+04\n",
      "  1.93847968e+03  2.91113799e+05 -1.73390408e+06 -1.15107194e+06\n",
      "  2.01752929e+07 -9.55142152e+05 -2.84988847e+05 -3.38999476e+05\n",
      "  9.23149878e+06 -1.17839601e+06 -3.82501705e+05  9.43151098e+05\n",
      " -1.04411362e+06  4.50133039e+05  0.00000000e+00  2.21295436e+06\n",
      " -1.39330336e+07  7.84076649e+05]\n",
      "Score:  0.650311790681217\n",
      "3266678817.8410077+(10.388662270926334 * Max Temp)-(10.303596544553352 * Min Temp)+(3.6847085474448047 * Relative Humidity)+(11.472252770740239 * Wind Speed)+(62.83355469696684 * Cloud Coverage)-(44.43559533535321 * Bright Sunshine)+(541.6385371912794 * X_COR)-(683.5424276977287 * Y_COR)+(77481960.64583272 * LATITUDE)-(54960258.81546498 * LONGITUDE)-(174815.1145131459 * ALT)-(657698.6471720098 * Station_Barisal)-(610392.4322343658 * Station_Bhola)-(1993904.3402718066 * Station_Bogra)-(1442162.2634302375 * Station_Chandpur)+(61.31753843370825 * Station_Chittagong (City-Ambagan))-(332726.7353155968 * Station_Chittagong (IAP-Patenga))-(1.0563090558862314 * Station_Chuadanga)-(930143.594849073 * Station_Comilla)+(414600.3824445681 * Station_Coxs Bazar)-(2189140.39271591 * Station_Dhaka)-(857842.0517555098 * Station_Dinajpur)-(1459166.5199438278 * Station_Faridpur)-(725495.3149100686 * Station_Feni)-(210786.0072959613 * Station_Hatiya)-(1074701.308440987 * Station_Ishurdi)-(188469.25595557573 * Station_Jessore)+(15345.751789487182 * Station_Khepupara)+(1938.4796764303826 * Station_Khulna)+(291113.79867505503 * Station_Kutubdia)-(1733904.0811389817 * Station_Madaripur)-(1151071.937054248 * Station_Maijdee Court)+(20175292.871405452 * Station_Mongla)-(955142.1515456982 * Station_Mymensingh)-(284988.84662183677 * Station_Patuakhali)-(338999.47605156206 * Station_Rajshahi)+(9231498.782214252 * Station_Rangamati)-(1178396.010446771 * Station_Rangpur)-(382501.7050146666 * Station_Sandwip)+(943151.098127035 * Station_Satkhira)-(1044113.6170173272 * Station_Sitakunda)+(450133.03924171324 * Station_Srimangal)+(2212954.3583646934 * Station_Sylhet)-(13933033.61194133 * Station_Tangail)+(784076.6492743422 * Station_Teknaf)\n"
     ]
    }
   ],
   "source": [
    "#dataset = dataset[dataset['inverse(Wind Speed)'] != \"inf\"]\n",
    "# Replacing infinite with nan \n",
    "dataset.replace([np.inf, -np.inf], np.nan, inplace=True)   \n",
    "# Dropping all the rows with nan values \n",
    "dataset.dropna(inplace=True) \n",
    "X = dataset[xcollist]\n",
    "y = dataset['Rainfall']\n",
    "#y = dataset['ln(Rainfall)']\n",
    "\n",
    "regr = linear_model.LinearRegression()\n",
    "regr.fit(X, y)\n",
    "\n",
    "print(regr.intercept_)\n",
    "print(regr.coef_) \n",
    "print(\"Score: \",regr.score(X, y)) \n",
    "equation =str(regr.intercept_)\n",
    "for i in range(len(xcollist)):\n",
    "    if regr.coef_[i]>0:\n",
    "        equation+=\"+\"\n",
    "        equation+=\"(\"+str(regr.coef_[i])+\" * \"+str(xcollist[i])+\")\"\n",
    "    if regr.coef_[i]<0:\n",
    "        equation+=\"-\"\n",
    "        equation+=\"(\"+str(regr.coef_[i]*-1)+\" * \"+str(xcollist[i])+\")\"\n",
    "print(equation)"
   ]
  },
  {
   "cell_type": "code",
   "execution_count": 119,
   "metadata": {},
   "outputs": [
    {
     "name": "stdout",
     "output_type": "stream",
     "text": [
      "                            OLS Regression Results                            \n",
      "==============================================================================\n",
      "Dep. Variable:               Rainfall   R-squared:                       0.650\n",
      "Model:                            OLS   Adj. R-squared:                  0.650\n",
      "Method:                 Least Squares   F-statistic:                     855.4\n",
      "Date:                Fri, 08 Jan 2021   Prob (F-statistic):               0.00\n",
      "Time:                        06:35:07   Log-Likelihood:            -1.0909e+05\n",
      "No. Observations:               17057   AIC:                         2.183e+05\n",
      "Df Residuals:                   17019   BIC:                         2.185e+05\n",
      "Df Model:                          37                                         \n",
      "Covariance Type:            nonrobust                                         \n",
      "=====================================================================================================\n",
      "                                        coef    std err          t      P>|t|      [0.025      0.975]\n",
      "-----------------------------------------------------------------------------------------------------\n",
      "const                                -0.0856      0.038     -2.224      0.026      -0.161      -0.010\n",
      "Max Temp                             10.3887      0.746     13.921      0.000       8.926      11.851\n",
      "Min Temp                            -10.3036      0.655    -15.723      0.000     -11.588      -9.019\n",
      "Relative Humidity                     3.6847      0.278     13.252      0.000       3.140       4.230\n",
      "Wind Speed                           11.4723      1.382      8.303      0.000       8.764      14.181\n",
      "Cloud Coverage                       62.8336      1.527     41.135      0.000      59.840      65.828\n",
      "Bright Sunshine                     -44.4356      1.235    -35.969      0.000     -46.857     -42.014\n",
      "X_COR                                 0.0004    1.6e-05     28.029      0.000       0.000       0.000\n",
      "Y_COR                             -8.757e-05   1.92e-05     -4.562      0.000      -0.000   -4.99e-05\n",
      "LATITUDE                              0.6981      1.531      0.456      0.648      -2.304       3.700\n",
      "LONGITUDE                            -4.2586      0.554     -7.686      0.000      -5.345      -3.172\n",
      "ALT                                   0.0444      0.113      0.392      0.695      -0.178       0.267\n",
      "Station_Barisal                     -41.8179      5.668     -7.377      0.000     -52.929     -30.707\n",
      "Station_Bhola                       -73.1867      6.777    -10.799      0.000     -86.471     -59.902\n",
      "Station_Bogra                        29.1218      5.409      5.384      0.000      18.520      39.723\n",
      "Station_Chandpur                    -40.7008      6.519     -6.244      0.000     -53.478     -27.924\n",
      "Station_Chittagong (City-Ambagan)  -1.11e-14   3.38e-15     -3.286      0.001   -1.77e-14   -4.48e-15\n",
      "Station_Chittagong (IAP-Patenga)    -18.7672      5.878     -3.193      0.001     -30.288      -7.247\n",
      "Station_Chuadanga                  9.381e-16   3.98e-15      0.236      0.814   -6.86e-15    8.74e-15\n",
      "Station_Comilla                     -39.8152      5.473     -7.275      0.000     -50.542     -29.088\n",
      "Station_Coxs Bazar                   63.2154      5.654     11.181      0.000      52.133      74.298\n",
      "Station_Dhaka                       -11.2165      5.820     -1.927      0.054     -22.624       0.191\n",
      "Station_Dinajpur                     89.1426      5.280     16.883      0.000      78.793      99.492\n",
      "Station_Faridpur                     -3.6267      5.567     -0.652      0.515     -14.538       7.284\n",
      "Station_Feni                         -2.2630      6.883     -0.329      0.742     -15.755      11.229\n",
      "Station_Hatiya                       50.6278      6.540      7.741      0.000      37.808      63.448\n",
      "Station_Ishurdi                     -11.0550      6.074     -1.820      0.069     -22.961       0.851\n",
      "Station_Jessore                     -45.1556      5.547     -8.141      0.000     -56.027     -34.284\n",
      "Station_Khepupara                    -3.3687      6.851     -0.492      0.623     -16.797      10.059\n",
      "Station_Khulna                       -7.3554      5.487     -1.340      0.180     -18.111       3.400\n",
      "Station_Kutubdia                      7.1546      7.226      0.990      0.322      -7.009      21.319\n",
      "Station_Madaripur                   -54.0943      7.490     -7.222      0.000     -68.776     -39.412\n",
      "Station_Maijdee Court                46.8064      5.712      8.194      0.000      35.610      58.003\n",
      "Station_Mongla                       -0.9128      7.988     -0.114      0.909     -16.570      14.745\n",
      "Station_Mymensingh                  -37.1965      5.414     -6.870      0.000     -47.809     -26.584\n",
      "Station_Patuakhali                  -39.8506      6.874     -5.797      0.000     -53.324     -26.377\n",
      "Station_Rajshahi                     36.3810      5.924      6.141      0.000      24.769      47.993\n",
      "Station_Rangamati                   -78.8502      2.776    -28.403      0.000     -84.292     -73.409\n",
      "Station_Rangpur                      57.6693      5.466     10.550      0.000      46.955      68.384\n",
      "Station_Sandwip                      95.5345      6.539     14.610      0.000      82.717     108.352\n",
      "Station_Satkhira                      3.3625      5.429      0.619      0.536      -7.279      14.004\n",
      "Station_Sitakunda                   -32.6206      7.201     -4.530      0.000     -46.735     -18.506\n",
      "Station_Srimangal                   -59.0442      5.516    -10.704      0.000     -69.856     -48.232\n",
      "Station_Syedpur                            0          0        nan        nan           0           0\n",
      "Station_Sylhet                       42.5560      5.191      8.198      0.000      32.381      52.731\n",
      "Station_Tangail                     -33.4293      8.229     -4.062      0.000     -49.559     -17.300\n",
      "Station_Teknaf                      112.6694      6.982     16.137      0.000      98.984     126.355\n",
      "==============================================================================\n",
      "Omnibus:                     4945.618   Durbin-Watson:                   1.441\n",
      "Prob(Omnibus):                  0.000   Jarque-Bera (JB):            27116.253\n",
      "Skew:                           1.287   Prob(JB):                         0.00\n",
      "Kurtosis:                       8.615   Cond. No.                     8.11e+19\n",
      "==============================================================================\n",
      "\n",
      "Warnings:\n",
      "[1] Standard Errors assume that the covariance matrix of the errors is correctly specified.\n",
      "[2] The smallest eigenvalue is 1.68e-24. This might indicate that there are\n",
      "strong multicollinearity problems or that the design matrix is singular.\n"
     ]
    },
    {
     "name": "stderr",
     "output_type": "stream",
     "text": [
      "G:\\anaconda\\lib\\site-packages\\statsmodels\\base\\model.py:1362: RuntimeWarning: invalid value encountered in true_divide\n",
      "  return self.params / self.bse\n",
      "G:\\anaconda\\lib\\site-packages\\scipy\\stats\\_distn_infrastructure.py:903: RuntimeWarning: invalid value encountered in greater\n",
      "  return (a < x) & (x < b)\n",
      "G:\\anaconda\\lib\\site-packages\\scipy\\stats\\_distn_infrastructure.py:903: RuntimeWarning: invalid value encountered in less\n",
      "  return (a < x) & (x < b)\n",
      "G:\\anaconda\\lib\\site-packages\\scipy\\stats\\_distn_infrastructure.py:1912: RuntimeWarning: invalid value encountered in less_equal\n",
      "  cond2 = cond0 & (x <= _a)\n"
     ]
    }
   ],
   "source": [
    "# with statsmodels\n",
    "X = sm.add_constant(X) # adding a constant\n",
    " \n",
    "model = sm.OLS(y, X).fit()\n",
    "predictions = model.predict(X) \n",
    " \n",
    "print_model = model.summary()\n",
    "print(print_model)"
   ]
  },
  {
   "cell_type": "code",
   "execution_count": 10,
   "metadata": {},
   "outputs": [],
   "source": []
  },
  {
   "cell_type": "code",
   "execution_count": null,
   "metadata": {},
   "outputs": [],
   "source": []
  }
 ],
 "metadata": {
  "kernelspec": {
   "display_name": "Python 3",
   "language": "python",
   "name": "python3"
  },
  "language_info": {
   "codemirror_mode": {
    "name": "ipython",
    "version": 3
   },
   "file_extension": ".py",
   "mimetype": "text/x-python",
   "name": "python",
   "nbconvert_exporter": "python",
   "pygments_lexer": "ipython3",
   "version": "3.7.6"
  }
 },
 "nbformat": 4,
 "nbformat_minor": 4
}
