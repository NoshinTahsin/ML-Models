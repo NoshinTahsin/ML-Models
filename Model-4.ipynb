{
 "cells": [
  {
   "cell_type": "code",
   "execution_count": 1,
   "metadata": {},
   "outputs": [
    {
     "name": "stdout",
     "output_type": "stream",
     "text": [
      "(21120, 109)\n"
     ]
    },
    {
     "name": "stderr",
     "output_type": "stream",
     "text": [
      "G:\\anaconda\\lib\\site-packages\\IPython\\core\\interactiveshell.py:3063: DtypeWarning: Columns (44,45,49,50,64,65) have mixed types.Specify dtype option on import or set low_memory=False.\n",
      "  interactivity=interactivity, compiler=compiler, result=result)\n"
     ]
    }
   ],
   "source": [
    "import pandas as pd\n",
    "import numpy as np\n",
    "from sklearn import linear_model\n",
    "import statsmodels.api as sm\n",
    "dataset = pd.read_csv(\"C:/Users/noshi/Desktop/poralekha/Sem8/MachineLearning/FinalCalculatedData.csv\")\n",
    "print(dataset.shape)"
   ]
  },
  {
   "cell_type": "code",
   "execution_count": 2,
   "metadata": {},
   "outputs": [
    {
     "name": "stdout",
     "output_type": "stream",
     "text": [
      "['Unnamed: 0', 'Station Names', 'Max Temp', 'Min Temp', 'Relative Humidity', 'Wind Speed', 'Cloud Coverage', 'Bright Sunshine', 'X_COR', 'Y_COR', 'LATITUDE', 'LONGITUDE', 'ALT', 'Rainfall', 'ln(Max Temp)', 'log(Max Temp)', 'sqr(Max Temp)', 'cube(Max Temp)', 'inverse(Max Temp)', 'ln(Min Temp)', 'log(Min Temp)', 'sqr(Min Temp)', 'cube(Min Temp)', 'inverse(Min Temp)', 'ln(Relative Humidity)', 'log(Relative Humidity)', 'sqr(Relative Humidity)', 'cube(Relative Humidity)', 'inverse(Relative Humidity)', 'ln(Wind Speed)', 'log(Wind Speed)', 'sqr(Wind Speed)', 'cube(Wind Speed)', 'inverse(Wind Speed)', 'ln(Cloud Coverage)', 'log(Cloud Coverage)', 'sqr(Cloud Coverage)', 'cube(Cloud Coverage)', 'inverse(Cloud Coverage)', 'ln(Bright Sunshine)', 'log(Bright Sunshine)', 'sqr(Bright Sunshine)', 'cube(Bright Sunshine)', 'inverse(Bright Sunshine)', 'ln(X_COR)', 'log(X_COR)', 'sqr(X_COR)', 'cube(X_COR)', 'inverse(X_COR)', 'ln(Y_COR)', 'log(Y_COR)', 'sqr(Y_COR)', 'cube(Y_COR)', 'inverse(Y_COR)', 'ln(LATITUDE)', 'log(LATITUDE)', 'sqr(LATITUDE)', 'cube(LATITUDE)', 'inverse(LATITUDE)', 'ln(LONGITUDE)', 'log(LONGITUDE)', 'sqr(LONGITUDE)', 'cube(LONGITUDE)', 'inverse(LONGITUDE)', 'ln(ALT)', 'log(ALT)', 'sqr(ALT)', 'cube(ALT)', 'inverse(ALT)', 'ln(Rainfall)', 'log(Rainfall)', 'sqr(Rainfall)', 'cube(Rainfall)', 'inverse(Rainfall)', 'Station_Barisal', 'Station_Bhola', 'Station_Bogra', 'Station_Chandpur', 'Station_Chittagong (City-Ambagan)', 'Station_Chittagong (IAP-Patenga)', 'Station_Chuadanga', 'Station_Comilla', 'Station_Coxs Bazar', 'Station_Dhaka', 'Station_Dinajpur', 'Station_Faridpur', 'Station_Feni', 'Station_Hatiya', 'Station_Ishurdi', 'Station_Jessore', 'Station_Khepupara', 'Station_Khulna', 'Station_Kutubdia', 'Station_Madaripur', 'Station_Maijdee Court', 'Station_Mongla', 'Station_Mymensingh', 'Station_Patuakhali', 'Station_Rajshahi', 'Station_Rangamati', 'Station_Rangpur', 'Station_Sandwip', 'Station_Satkhira', 'Station_Sitakunda', 'Station_Srimangal', 'Station_Syedpur', 'Station_Sylhet', 'Station_Tangail', 'Station_Teknaf']\n"
     ]
    }
   ],
   "source": [
    "columns = dataset.columns.to_list()\n",
    "print(columns)"
   ]
  },
  {
   "cell_type": "code",
   "execution_count": 19,
   "metadata": {},
   "outputs": [],
   "source": [
    "xcollist=['Max Temp', 'Min Temp', 'Relative Humidity', 'Wind Speed', 'Cloud Coverage', 'sqr(Cloud Coverage)', 'Bright Sunshine','X_COR', 'Y_COR', 'LATITUDE', 'LONGITUDE', 'ALT','Station_Barisal', 'Station_Bhola', 'Station_Bogra', 'Station_Chandpur', 'Station_Chittagong (City-Ambagan)', 'Station_Chittagong (IAP-Patenga)', 'Station_Chuadanga', 'Station_Comilla', 'Station_Coxs Bazar', 'Station_Dhaka', 'Station_Dinajpur', 'Station_Faridpur', 'Station_Feni', 'Station_Hatiya', 'Station_Ishurdi', 'Station_Jessore', 'Station_Khepupara', 'Station_Khulna', 'Station_Kutubdia', 'Station_Madaripur', 'Station_Maijdee Court', 'Station_Mongla', 'Station_Mymensingh', 'Station_Patuakhali', 'Station_Rajshahi', 'Station_Rangamati', 'Station_Rangpur', 'Station_Sandwip', 'Station_Satkhira', 'Station_Sitakunda', 'Station_Srimangal', 'Station_Syedpur', 'Station_Sylhet', 'Station_Tangail', 'Station_Teknaf']"
   ]
  },
  {
   "cell_type": "code",
   "execution_count": 20,
   "metadata": {},
   "outputs": [
    {
     "name": "stdout",
     "output_type": "stream",
     "text": [
      "Intercept:  11197425.42840335\n",
      "\n",
      "Coefficient:  [ 4.15403495e-02  5.61935930e-02  2.95940002e-02  5.10741146e-03\n",
      "  1.01346378e+00 -7.51751359e-02 -1.04714886e-01  2.23413340e+00\n",
      " -2.46502218e+00  3.00983491e+05 -1.98950353e+05 -1.38435961e+03\n",
      "  1.11691615e+04  3.66076828e+03 -8.39073331e+02 -1.01576616e+04\n",
      " -1.57124965e+00 -1.88140690e+04 -4.02937893e-03 -2.52572525e+04\n",
      " -4.29672313e+03 -1.47745709e+04  1.88993193e+04  6.90119542e+03\n",
      " -2.10482868e+04 -8.55648253e+01  2.33189177e+04  3.69213952e+04\n",
      "  3.21723082e+04  3.33243796e+04 -7.12411999e+03  2.84042617e+03\n",
      " -1.21602223e+04  1.15412191e+05 -2.39338944e+04  1.95883608e+04\n",
      "  3.88077340e+04  4.02341245e+04 -2.96783900e+03 -1.29856421e+04\n",
      "  5.51541853e+04 -2.50557201e+04 -4.27952647e+04  0.00000000e+00\n",
      " -4.52362105e+04 -5.14675859e+04  1.66036470e+03]\n",
      "\n",
      "R-Squared:  0.7199345993227042\n",
      "\n",
      "Regression Equation:\n",
      "\n",
      "11197425.42840335+(0.0415403495354098 * Max Temp)+(0.05619359304156102 * Min Temp)+(0.029594000157627566 * Relative Humidity)+(0.005107411459105987 * Wind Speed)+(1.0134637780321498 * Cloud Coverage)-(0.07517513592942432 * sqr(Cloud Coverage))-(0.10471488565220484 * Bright Sunshine)+(2.234133404776071 * X_COR)-(2.4650221813417685 * Y_COR)+(300983.4912312549 * LATITUDE)-(198950.35325512337 * LONGITUDE)-(1384.3596070319534 * ALT)+(11169.161484716351 * Station_Barisal)+(3660.7682772438993 * Station_Bhola)-(839.0733310029578 * Station_Bogra)-(10157.66158295663 * Station_Chandpur)-(1.5712496502510476 * Station_Chittagong (City-Ambagan))-(18814.069019122107 * Station_Chittagong (IAP-Patenga))-(0.004029378929772065 * Station_Chuadanga)-(25257.25248390219 * Station_Comilla)-(4296.723133233518 * Station_Coxs Bazar)-(14774.57094165568 * Station_Dhaka)+(18899.319329273625 * Station_Dinajpur)+(6901.195420523361 * Station_Faridpur)-(21048.28675488149 * Station_Feni)-(85.5648252702823 * Station_Hatiya)+(23318.91768030265 * Station_Ishurdi)+(36921.39517572142 * Station_Jessore)+(32172.30815632982 * Station_Khepupara)+(33324.379593271064 * Station_Khulna)-(7124.119989114136 * Station_Kutubdia)+(2840.4261729921163 * Station_Madaripur)-(12160.222347472003 * Station_Maijdee Court)+(115412.1905699338 * Station_Mongla)-(23933.89441440866 * Station_Mymensingh)+(19588.360752670345 * Station_Patuakhali)+(38807.7339503375 * Station_Rajshahi)+(40234.124494705735 * Station_Rangamati)-(2967.8389960152845 * Station_Rangpur)-(12985.642077928425 * Station_Sandwip)+(55154.1852831006 * Station_Satkhira)-(25055.720056766786 * Station_Sitakunda)-(42795.26470363905 * Station_Srimangal)-(45236.2105151011 * Station_Sylhet)-(51467.58587315868 * Station_Tangail)+(1660.3646985174696 * Station_Teknaf)\n"
     ]
    }
   ],
   "source": [
    "#dataset = dataset[dataset['inverse(Wind Speed)'] != \"inf\"]\n",
    "# Replacing infinite with nan \n",
    "dataset.replace([np.inf, -np.inf], np.nan, inplace=True)   \n",
    "# Dropping all the rows with nan values \n",
    "dataset.dropna(inplace=True) \n",
    "X = dataset[xcollist]\n",
    "#y = dataset['Rainfall']\n",
    "y = dataset['ln(Rainfall)']\n",
    "\n",
    "regr = linear_model.LinearRegression()\n",
    "regr.fit(X, y)\n",
    "\n",
    "print(\"Intercept: \",regr.intercept_)\n",
    "print(\"\\nCoefficient: \",regr.coef_) \n",
    "print(\"\\nR-Squared: \",regr.score(X, y))\n",
    "\n",
    "equation =str(regr.intercept_)\n",
    "for i in range(len(xcollist)):\n",
    "    if regr.coef_[i]>0:\n",
    "        equation+=\"+\"\n",
    "        equation+=\"(\"+str(regr.coef_[i])+\" * \"+str(xcollist[i])+\")\"\n",
    "    if regr.coef_[i]<0:\n",
    "        equation+=\"-\"\n",
    "        equation+=\"(\"+str(regr.coef_[i]*-1)+\" * \"+str(xcollist[i])+\")\"\n",
    "\n",
    "print(\"\\nRegression Equation:\\n\")\n",
    "print(equation)"
   ]
  },
  {
   "cell_type": "code",
   "execution_count": 10,
   "metadata": {},
   "outputs": [],
   "source": []
  },
  {
   "cell_type": "code",
   "execution_count": null,
   "metadata": {},
   "outputs": [],
   "source": []
  }
 ],
 "metadata": {
  "kernelspec": {
   "display_name": "Python 3",
   "language": "python",
   "name": "python3"
  },
  "language_info": {
   "codemirror_mode": {
    "name": "ipython",
    "version": 3
   },
   "file_extension": ".py",
   "mimetype": "text/x-python",
   "name": "python",
   "nbconvert_exporter": "python",
   "pygments_lexer": "ipython3",
   "version": "3.7.6"
  }
 },
 "nbformat": 4,
 "nbformat_minor": 4
}
